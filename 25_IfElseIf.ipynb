{
  "nbformat": 4,
  "nbformat_minor": 0,
  "metadata": {
    "colab": {
      "provenance": [],
      "authorship_tag": "ABX9TyNcZlS1t+gYCYrLWPTBVAe9",
      "include_colab_link": true
    },
    "kernelspec": {
      "name": "python3",
      "display_name": "Python 3"
    },
    "language_info": {
      "name": "python"
    }
  },
  "cells": [
    {
      "cell_type": "markdown",
      "metadata": {
        "id": "view-in-github",
        "colab_type": "text"
      },
      "source": [
        "<a href=\"https://colab.research.google.com/github/imammarzuki/pythonpemula/blob/main/25_IfElseIf.ipynb\" target=\"_parent\"><img src=\"https://colab.research.google.com/assets/colab-badge.svg\" alt=\"Open In Colab\"/></a>"
      ]
    },
    {
      "cell_type": "code",
      "execution_count": 1,
      "metadata": {
        "id": "gUTxuPIM9xRb"
      },
      "outputs": [],
      "source": [
        "# Tutorial Belajar Python Part 25: Percabangan Kondisi If Else If Bahasa Python"
      ]
    },
    {
      "cell_type": "code",
      "source": [
        "nilai = 'D'\n",
        "\n",
        "if nilai == 'A':\n",
        "  print('Pertahankan')\n",
        "elif nilai == 'B':\n",
        "  print('Harus lebih baik lagi')\n",
        "elif nilai == 'C':\n",
        "  print('Perbanyak belajar')\n",
        "elif nilai == 'D':\n",
        "  print('Jangan keseringan main')\n",
        "elif nilai == 'E':\n",
        "  print('Kebanyakan bolos...')\n",
        "else:\n",
        "  print('Maaf, format nilai tidak sesuai')"
      ],
      "metadata": {
        "colab": {
          "base_uri": "https://localhost:8080/"
        },
        "id": "pyWdpTFx9_YH",
        "outputId": "bfda90da-bbdb-41f3-babc-e69a32747e53"
      },
      "execution_count": 2,
      "outputs": [
        {
          "output_type": "stream",
          "name": "stdout",
          "text": [
            "Jangan keseringan main\n"
          ]
        }
      ]
    },
    {
      "cell_type": "code",
      "source": [
        "nilai = 65\n",
        "print('Nilai:',nilai)\n",
        "\n",
        "if nilai >= 90:\n",
        "  print('Pertahankan')\n",
        "elif (nilai >= 80) and (nilai < 90):\n",
        "  print('Harus lebih baik lagi')\n",
        "elif (nilai >= 60) and (nilai < 80):\n",
        "  print('Perbanyak belajar')\n",
        "elif (nilai >= 40) and (nilai < 60):\n",
        "  print('Jangan keseringan main')\n",
        "elif nilai < 40:\n",
        "  print('Kebanyakan bolos...')\n",
        "else:\n",
        "  print('Maaf, format nilai tidak sesuai')"
      ],
      "metadata": {
        "colab": {
          "base_uri": "https://localhost:8080/"
        },
        "id": "8sR9UibW-D1o",
        "outputId": "3f3feb7f-ed3c-4d7f-b7be-2048a05bf0e9"
      },
      "execution_count": 3,
      "outputs": [
        {
          "output_type": "stream",
          "name": "stdout",
          "text": [
            "Nilai: 65\n",
            "Perbanyak belajar\n"
          ]
        }
      ]
    }
  ]
}