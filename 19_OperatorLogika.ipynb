{
  "nbformat": 4,
  "nbformat_minor": 0,
  "metadata": {
    "colab": {
      "provenance": [],
      "authorship_tag": "ABX9TyM+6TtXkGsBYSsuatttbBx0",
      "include_colab_link": true
    },
    "kernelspec": {
      "name": "python3",
      "display_name": "Python 3"
    },
    "language_info": {
      "name": "python"
    }
  },
  "cells": [
    {
      "cell_type": "markdown",
      "metadata": {
        "id": "view-in-github",
        "colab_type": "text"
      },
      "source": [
        "<a href=\"https://colab.research.google.com/github/imammarzuki/pythonpemula/blob/main/19_OperatorLogika.ipynb\" target=\"_parent\"><img src=\"https://colab.research.google.com/assets/colab-badge.svg\" alt=\"Open In Colab\"/></a>"
      ]
    },
    {
      "cell_type": "code",
      "execution_count": null,
      "metadata": {
        "id": "gD6_jppa9OwI"
      },
      "outputs": [],
      "source": [
        "# Tutorial Belajar Python Part 19: Jenis-jenis Operator Logika Python"
      ]
    },
    {
      "cell_type": "code",
      "source": [
        "print('Hasil dari True and True   :', True and True)\n",
        "print('Hasil dari True and False  :', True and False)\n",
        "print('Hasil dari False and True  :', False and True)\n",
        "print('Hasil dari False and False :', False and False)\n",
        "\n",
        "print('\\n')\n",
        "\n",
        "print('Hasil dari True or True   :', True or True)\n",
        "print('Hasil dari True or False  :', True or False)\n",
        "print('Hasil dari False or True  :', False or True)\n",
        "print('Hasil dari False or False :', False or False)\n",
        "\n",
        "print('\\n')\n",
        "\n",
        "print('Hasil dari not True  :', not True)\n",
        "print('Hasil dari not False :', not False)"
      ],
      "metadata": {
        "colab": {
          "base_uri": "https://localhost:8080/"
        },
        "id": "9ZdZ8IBD9gLL",
        "outputId": "0cd9b6ea-179f-4e9d-cf4a-245cfa76411c"
      },
      "execution_count": 1,
      "outputs": [
        {
          "output_type": "stream",
          "name": "stdout",
          "text": [
            "Hasil dari True and True   : True\n",
            "Hasil dari True and False  : False\n",
            "Hasil dari False and True  : False\n",
            "Hasil dari False and False : False\n",
            "\n",
            "\n",
            "Hasil dari True or True   : True\n",
            "Hasil dari True or False  : True\n",
            "Hasil dari False or True  : True\n",
            "Hasil dari False or False : False\n",
            "\n",
            "\n",
            "Hasil dari not True  : False\n",
            "Hasil dari not False : True\n"
          ]
        }
      ]
    },
    {
      "cell_type": "code",
      "source": [
        "hasil = (5 > 6) and (10 <= 8)\n",
        "print(hasil)\n",
        "\n",
        "hasil = ('duniailkom' == 'duniailkom') or (10 <= 8)\n",
        "print(hasil)\n",
        "\n",
        "hasil = not (10 < 10)\n",
        "print(hasil)\n",
        "\n",
        "hasil = ('duniailkom' == 'duniailkom') and (10 <= 8) or (1 != 1)\n",
        "print(hasil)"
      ],
      "metadata": {
        "colab": {
          "base_uri": "https://localhost:8080/"
        },
        "id": "82NnnScs9xNZ",
        "outputId": "de59cb0b-3640-445a-e976-47bf6e557e0a"
      },
      "execution_count": 2,
      "outputs": [
        {
          "output_type": "stream",
          "name": "stdout",
          "text": [
            "False\n",
            "True\n",
            "True\n",
            "False\n"
          ]
        }
      ]
    }
  ]
}