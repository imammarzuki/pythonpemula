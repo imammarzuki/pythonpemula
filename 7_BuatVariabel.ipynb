{
  "nbformat": 4,
  "nbformat_minor": 0,
  "metadata": {
    "colab": {
      "provenance": [],
      "authorship_tag": "ABX9TyPfyqkVQD/3Y6OtuTQGVn8F",
      "include_colab_link": true
    },
    "kernelspec": {
      "name": "python3",
      "display_name": "Python 3"
    },
    "language_info": {
      "name": "python"
    }
  },
  "cells": [
    {
      "cell_type": "markdown",
      "metadata": {
        "id": "view-in-github",
        "colab_type": "text"
      },
      "source": [
        "<a href=\"https://colab.research.google.com/github/imammarzuki/pythonpemula/blob/main/7_BuatVariabel.ipynb\" target=\"_parent\"><img src=\"https://colab.research.google.com/assets/colab-badge.svg\" alt=\"Open In Colab\"/></a>"
      ]
    },
    {
      "cell_type": "code",
      "execution_count": 1,
      "metadata": {
        "id": "i2LwnPuaXfiB"
      },
      "outputs": [],
      "source": [
        "# Tutorial Belajar Python Part 7: Cara Pembuatan Variabel Bahasa Python"
      ]
    },
    {
      "cell_type": "code",
      "source": [
        "website = \"Duniailkom\"\n",
        "harga = 20000\n",
        "sukses = True"
      ],
      "metadata": {
        "id": "4zVZKR26Xrj7"
      },
      "execution_count": 2,
      "outputs": []
    },
    {
      "cell_type": "code",
      "source": [
        "website\n",
        "harga\n",
        "sukses"
      ],
      "metadata": {
        "colab": {
          "base_uri": "https://localhost:8080/"
        },
        "id": "4c5UYzg6X2i6",
        "outputId": "947eea66-be94-48ac-a794-d41b12f37688"
      },
      "execution_count": 3,
      "outputs": [
        {
          "output_type": "execute_result",
          "data": {
            "text/plain": [
              "True"
            ]
          },
          "metadata": {},
          "execution_count": 3
        }
      ]
    },
    {
      "cell_type": "code",
      "source": [
        "website = \"Duniailkom\"\n",
        "print(website)\n",
        "harga = 20000\n",
        "print(harga)\n",
        "sukses = True\n",
        "print(sukses)"
      ],
      "metadata": {
        "colab": {
          "base_uri": "https://localhost:8080/"
        },
        "id": "O_2FCl4SX7Xx",
        "outputId": "776c00a6-8e93-43c8-a682-c228ba64a1ed"
      },
      "execution_count": 4,
      "outputs": [
        {
          "output_type": "stream",
          "name": "stdout",
          "text": [
            "Duniailkom\n",
            "20000\n",
            "True\n"
          ]
        }
      ]
    },
    {
      "cell_type": "code",
      "source": [
        "website = \"Duniailkom\"\n",
        "print(website)\n",
        "website = \"Python\"\n",
        "print(website)\n",
        "website = \"Google\"\n",
        "print(website)"
      ],
      "metadata": {
        "colab": {
          "base_uri": "https://localhost:8080/"
        },
        "id": "EZhfXfqlYB7g",
        "outputId": "fd213ba0-b34c-4d5e-8711-348a12794e3a"
      },
      "execution_count": 5,
      "outputs": [
        {
          "output_type": "stream",
          "name": "stdout",
          "text": [
            "Duniailkom\n",
            "Python\n",
            "Google\n"
          ]
        }
      ]
    },
    {
      "cell_type": "code",
      "source": [
        "foo = \"Belajar Python di Duniailkom\"\n",
        "print(foo)\n",
        "foo = 350.25\n",
        "print(foo)\n",
        "foo = False\n",
        "print(foo)"
      ],
      "metadata": {
        "colab": {
          "base_uri": "https://localhost:8080/"
        },
        "id": "lCmtqxD5YGXH",
        "outputId": "4882d038-134a-41f7-8547-a9383c745e5e"
      },
      "execution_count": 6,
      "outputs": [
        {
          "output_type": "stream",
          "name": "stdout",
          "text": [
            "Belajar Python di Duniailkom\n",
            "350.25\n",
            "False\n"
          ]
        }
      ]
    },
    {
      "cell_type": "code",
      "source": [
        "PI = 3.14\n",
        "BULAN_1 = \"Januari\"\n",
        "NAMA_WEBSITE = \"Duniailkom\""
      ],
      "metadata": {
        "id": "MRkeAqIcYQaU"
      },
      "execution_count": 7,
      "outputs": []
    }
  ]
}