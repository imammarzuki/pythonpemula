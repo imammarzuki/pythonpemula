{
  "nbformat": 4,
  "nbformat_minor": 0,
  "metadata": {
    "colab": {
      "provenance": [],
      "authorship_tag": "ABX9TyOJF941itW3Glkgkzeh6HNF",
      "include_colab_link": true
    },
    "kernelspec": {
      "name": "python3",
      "display_name": "Python 3"
    },
    "language_info": {
      "name": "python"
    }
  },
  "cells": [
    {
      "cell_type": "markdown",
      "metadata": {
        "id": "view-in-github",
        "colab_type": "text"
      },
      "source": [
        "<a href=\"https://colab.research.google.com/github/imammarzuki/pythonpemula/blob/main/12_List.ipynb\" target=\"_parent\"><img src=\"https://colab.research.google.com/assets/colab-badge.svg\" alt=\"Open In Colab\"/></a>"
      ]
    },
    {
      "cell_type": "code",
      "execution_count": 1,
      "metadata": {
        "id": "tCPQrEzzd28V"
      },
      "outputs": [],
      "source": [
        "# Tutorial Belajar Python Part 12: Tipe Data List dalam Bahasa Python"
      ]
    },
    {
      "cell_type": "code",
      "source": [
        "foo = [\"Belajar\", \"Python\", \"di\", \"Duniailkom\"]\n",
        "bar = [100, 200, 300, 400]\n",
        "baz = [\"Python\", 200, 6.99, True]\n",
        "\n",
        "print(foo)\n",
        "print(bar)\n",
        "print(baz)"
      ],
      "metadata": {
        "colab": {
          "base_uri": "https://localhost:8080/"
        },
        "id": "DVT3HoCxd9jP",
        "outputId": "ba9650cd-17a0-4462-a5f3-38d0297f10e8"
      },
      "execution_count": 2,
      "outputs": [
        {
          "output_type": "stream",
          "name": "stdout",
          "text": [
            "['Belajar', 'Python', 'di', 'Duniailkom']\n",
            "[100, 200, 300, 400]\n",
            "['Python', 200, 6.99, True]\n"
          ]
        }
      ]
    },
    {
      "cell_type": "code",
      "source": [
        "foo = [\"Belajar\", \"Python\", \"di\", \"Duniailkom\"]\n",
        "bar = [100, 200, 300, 400]\n",
        "baz = [\"Python\", 200, 6.99, True]\n",
        "\n",
        "print(type(foo))\n",
        "print(type(bar))\n",
        "print(type(baz))"
      ],
      "metadata": {
        "colab": {
          "base_uri": "https://localhost:8080/"
        },
        "id": "83w182rceBgu",
        "outputId": "841ca96e-cf30-4557-bafb-7271b6fdfaa8"
      },
      "execution_count": 3,
      "outputs": [
        {
          "output_type": "stream",
          "name": "stdout",
          "text": [
            "<class 'list'>\n",
            "<class 'list'>\n",
            "<class 'list'>\n"
          ]
        }
      ]
    },
    {
      "cell_type": "code",
      "source": [
        "foo = [\"Python\", 200, 6.99, True, 'Duniailkom', 99j]\n",
        "\n",
        "print(foo[0])\n",
        "print(foo[1])\n",
        "print(foo[2])\n",
        "print(foo[3])\n",
        "print(foo[4])\n",
        "print(foo[5])"
      ],
      "metadata": {
        "colab": {
          "base_uri": "https://localhost:8080/"
        },
        "id": "5HCpa_rFeFC0",
        "outputId": "d7926b3a-4e0d-47e3-a75c-d0df2700c0c4"
      },
      "execution_count": 4,
      "outputs": [
        {
          "output_type": "stream",
          "name": "stdout",
          "text": [
            "Python\n",
            "200\n",
            "6.99\n",
            "True\n",
            "Duniailkom\n",
            "99j\n"
          ]
        }
      ]
    },
    {
      "cell_type": "code",
      "source": [
        "foo = [\"Python\", 200, 6.99, True, 'Duniailkom', 99j]\n",
        "print(foo)\n",
        "\n",
        "foo[0] = 'Belajar'\n",
        "foo[3] = False\n",
        "print(foo)"
      ],
      "metadata": {
        "colab": {
          "base_uri": "https://localhost:8080/"
        },
        "id": "vWODbLbleMQ8",
        "outputId": "14f25767-5c6b-42e0-d6d8-563d9bf3b69d"
      },
      "execution_count": 5,
      "outputs": [
        {
          "output_type": "stream",
          "name": "stdout",
          "text": [
            "['Python', 200, 6.99, True, 'Duniailkom', 99j]\n",
            "['Belajar', 200, 6.99, False, 'Duniailkom', 99j]\n"
          ]
        }
      ]
    },
    {
      "cell_type": "code",
      "source": [
        "foo = [\"Python\", 200, 6.99, True, 'Duniailkom', 99j]\n",
        "print(foo[2:5])\n",
        "print(foo[:3])\n",
        "print(foo[3:])\n",
        "print(foo[:])"
      ],
      "metadata": {
        "colab": {
          "base_uri": "https://localhost:8080/"
        },
        "id": "RCr0XG8HeS6j",
        "outputId": "b0cf9cfb-3215-4cce-fce0-b415001ae44d"
      },
      "execution_count": 6,
      "outputs": [
        {
          "output_type": "stream",
          "name": "stdout",
          "text": [
            "[6.99, True, 'Duniailkom']\n",
            "['Python', 200, 6.99]\n",
            "[True, 'Duniailkom', 99j]\n",
            "['Python', 200, 6.99, True, 'Duniailkom', 99j]\n"
          ]
        }
      ]
    }
  ]
}