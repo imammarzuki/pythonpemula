{
  "nbformat": 4,
  "nbformat_minor": 0,
  "metadata": {
    "colab": {
      "provenance": [],
      "authorship_tag": "ABX9TyPYuxyxziXP56K3E/aBX/CI",
      "include_colab_link": true
    },
    "kernelspec": {
      "name": "python3",
      "display_name": "Python 3"
    },
    "language_info": {
      "name": "python"
    }
  },
  "cells": [
    {
      "cell_type": "markdown",
      "metadata": {
        "id": "view-in-github",
        "colab_type": "text"
      },
      "source": [
        "<a href=\"https://colab.research.google.com/github/imammarzuki/pythonpemula/blob/main/36_ArbitraryKeyword.ipynb\" target=\"_parent\"><img src=\"https://colab.research.google.com/assets/colab-badge.svg\" alt=\"Open In Colab\"/></a>"
      ]
    },
    {
      "cell_type": "code",
      "execution_count": null,
      "metadata": {
        "id": "nn7PkoQzThty"
      },
      "outputs": [],
      "source": [
        "# Tutorial Belajar Python Part 36: Pengertian Arbitrary Keyword Arguments (**kwargs) Python"
      ]
    },
    {
      "cell_type": "code",
      "source": [
        "def sambung_kata(**kwargs):\n",
        "  print(kwargs)\n",
        "  print(type(kwargs))"
      ],
      "metadata": {
        "id": "OX4FBSEAT52G"
      },
      "execution_count": 1,
      "outputs": []
    },
    {
      "cell_type": "code",
      "source": [
        "sambung_kata(a=\"Belajar\", b=\"Python\", c=\"di\", d=\"Duniailkom\")"
      ],
      "metadata": {
        "colab": {
          "base_uri": "https://localhost:8080/"
        },
        "id": "MBTEPMMMUA-S",
        "outputId": "5c190f63-6826-450a-cb87-c386dc26e8fc"
      },
      "execution_count": 2,
      "outputs": [
        {
          "output_type": "stream",
          "name": "stdout",
          "text": [
            "{'a': 'Belajar', 'b': 'Python', 'c': 'di', 'd': 'Duniailkom'}\n",
            "<class 'dict'>\n"
          ]
        }
      ]
    },
    {
      "cell_type": "code",
      "source": [
        "def sambung_kata(**kata):\n",
        "  for i in kata:\n",
        "     print(i)"
      ],
      "metadata": {
        "id": "BRswMN_rUFKe"
      },
      "execution_count": 3,
      "outputs": []
    },
    {
      "cell_type": "code",
      "source": [
        "sambung_kata(a=\"Belajar\", b=\"Python\", c=\"di\", d=\"Duniailkom\")"
      ],
      "metadata": {
        "colab": {
          "base_uri": "https://localhost:8080/"
        },
        "id": "eIpB3quDUHig",
        "outputId": "92b0742b-08f1-4c21-d3c9-3047a298401e"
      },
      "execution_count": 4,
      "outputs": [
        {
          "output_type": "stream",
          "name": "stdout",
          "text": [
            "a\n",
            "b\n",
            "c\n",
            "d\n"
          ]
        }
      ]
    },
    {
      "cell_type": "code",
      "source": [
        "def sambung_kata(**kata):\n",
        "  for i in kata.values():\n",
        "     print(i)"
      ],
      "metadata": {
        "id": "D0S3cBOwUKNJ"
      },
      "execution_count": 5,
      "outputs": []
    },
    {
      "cell_type": "code",
      "source": [
        "sambung_kata(a=\"Belajar\", b=\"Python\", c=\"di\", d=\"Duniailkom\")"
      ],
      "metadata": {
        "colab": {
          "base_uri": "https://localhost:8080/"
        },
        "id": "lTGodOptULYi",
        "outputId": "6d3b0619-176c-4c65-9073-754f09c87100"
      },
      "execution_count": 6,
      "outputs": [
        {
          "output_type": "stream",
          "name": "stdout",
          "text": [
            "Belajar\n",
            "Python\n",
            "di\n",
            "Duniailkom\n"
          ]
        }
      ]
    },
    {
      "cell_type": "code",
      "source": [
        "sambung_kata(a=\"Belajar\", b=\"Python\", c=\"di\", d=\"Duniailkom\")"
      ],
      "metadata": {
        "colab": {
          "base_uri": "https://localhost:8080/"
        },
        "id": "QEx_3FH1UN83",
        "outputId": "f10c7b95-2dea-4319-cf57-ffadab4942ba"
      },
      "execution_count": 7,
      "outputs": [
        {
          "output_type": "stream",
          "name": "stdout",
          "text": [
            "Belajar\n",
            "Python\n",
            "di\n",
            "Duniailkom\n"
          ]
        }
      ]
    },
    {
      "cell_type": "code",
      "source": [
        "print( sambung_kata(a=\"Belajar\", b=\"Python\", c=\"di\", d=\"Duniailkom\") )"
      ],
      "metadata": {
        "colab": {
          "base_uri": "https://localhost:8080/"
        },
        "id": "CPOt1-8xUS-c",
        "outputId": "40b730dc-c044-4af3-afaa-bfe16587c759"
      },
      "execution_count": 8,
      "outputs": [
        {
          "output_type": "stream",
          "name": "stdout",
          "text": [
            "Belajar\n",
            "Python\n",
            "di\n",
            "Duniailkom\n",
            "None\n"
          ]
        }
      ]
    },
    {
      "cell_type": "code",
      "source": [
        "def sambung_kata(**kata):\n",
        "  hasil = \"\"\n",
        "  for i in kata.values():\n",
        "     hasil += i + \" \"\n",
        "  return hasil;"
      ],
      "metadata": {
        "id": "FfJ3hZgWUVpX"
      },
      "execution_count": 9,
      "outputs": []
    },
    {
      "cell_type": "code",
      "source": [
        "print( sambung_kata(a=\"Belajar\", b=\"Python\", c=\"di\", d=\"Duniailkom\") )"
      ],
      "metadata": {
        "colab": {
          "base_uri": "https://localhost:8080/"
        },
        "id": "qjwRZFjaUY3o",
        "outputId": "1c3f170c-74ed-4cf9-c884-ec8dfe89867f"
      },
      "execution_count": 10,
      "outputs": [
        {
          "output_type": "stream",
          "name": "stdout",
          "text": [
            "Belajar Python di Duniailkom \n"
          ]
        }
      ]
    },
    {
      "cell_type": "code",
      "source": [
        "def test(var1, var2, *args,**kwargs):\n",
        "  print(var1)\n",
        "  print(var2)\n",
        "  print(args)\n",
        "  print(kwargs)"
      ],
      "metadata": {
        "id": "InvCELqwUcwL"
      },
      "execution_count": 11,
      "outputs": []
    },
    {
      "cell_type": "code",
      "source": [
        "test(10, 20, 30, 40, 50, a = 60, b = 70, c = 80)"
      ],
      "metadata": {
        "colab": {
          "base_uri": "https://localhost:8080/"
        },
        "id": "mZkNrGvdUds1",
        "outputId": "bb946d31-96fc-4508-8e68-6f30940339cf"
      },
      "execution_count": 12,
      "outputs": [
        {
          "output_type": "stream",
          "name": "stdout",
          "text": [
            "10\n",
            "20\n",
            "(30, 40, 50)\n",
            "{'a': 60, 'b': 70, 'c': 80}\n"
          ]
        }
      ]
    },
    {
      "cell_type": "code",
      "source": [
        "def test(var1, var2, **kwargs, *args):\n",
        "  print(var1)\n",
        "  print(var2)\n",
        "  print(args)\n",
        "  print(kwargs)"
      ],
      "metadata": {
        "colab": {
          "base_uri": "https://localhost:8080/",
          "height": 108
        },
        "id": "j5m-WFFvUiFW",
        "outputId": "33209366-dc5b-4e38-897d-88717e3276c6"
      },
      "execution_count": 13,
      "outputs": [
        {
          "output_type": "error",
          "ename": "SyntaxError",
          "evalue": "invalid syntax (<ipython-input-13-ede01ffdec35>, line 1)",
          "traceback": [
            "\u001b[0;36m  File \u001b[0;32m\"<ipython-input-13-ede01ffdec35>\"\u001b[0;36m, line \u001b[0;32m1\u001b[0m\n\u001b[0;31m    def test(var1, var2, **kwargs, *args):\u001b[0m\n\u001b[0m                                   ^\u001b[0m\n\u001b[0;31mSyntaxError\u001b[0m\u001b[0;31m:\u001b[0m invalid syntax\n"
          ]
        }
      ]
    },
    {
      "cell_type": "code",
      "source": [
        "test(10, 20, 30, 40, 50, a = 60, b = 70, c = 80)"
      ],
      "metadata": {
        "colab": {
          "base_uri": "https://localhost:8080/"
        },
        "id": "qM-uIcxCUpav",
        "outputId": "e9e538ca-7076-4ba3-eef7-864db46c0eff"
      },
      "execution_count": 14,
      "outputs": [
        {
          "output_type": "stream",
          "name": "stdout",
          "text": [
            "10\n",
            "20\n",
            "(30, 40, 50)\n",
            "{'a': 60, 'b': 70, 'c': 80}\n"
          ]
        }
      ]
    }
  ]
}