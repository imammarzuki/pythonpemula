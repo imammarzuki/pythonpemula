{
  "nbformat": 4,
  "nbformat_minor": 0,
  "metadata": {
    "colab": {
      "provenance": [],
      "authorship_tag": "ABX9TyONq6HAV9Kjp3/8zuT1Wxyw",
      "include_colab_link": true
    },
    "kernelspec": {
      "name": "python3",
      "display_name": "Python 3"
    },
    "language_info": {
      "name": "python"
    }
  },
  "cells": [
    {
      "cell_type": "markdown",
      "metadata": {
        "id": "view-in-github",
        "colab_type": "text"
      },
      "source": [
        "<a href=\"https://colab.research.google.com/github/imammarzuki/pythonpemula/blob/main/30_BuatFungsi.ipynb\" target=\"_parent\"><img src=\"https://colab.research.google.com/assets/colab-badge.svg\" alt=\"Open In Colab\"/></a>"
      ]
    },
    {
      "cell_type": "code",
      "execution_count": 2,
      "metadata": {
        "id": "p9GkEO10FfBT"
      },
      "outputs": [],
      "source": [
        "# Tutorial Belajar Python Part 30: Cara Membuat Fungsi (Function) Python"
      ]
    },
    {
      "cell_type": "code",
      "source": [
        "def sapa_duniailkom():\n",
        "  print(\"Halo Duniailkom\")"
      ],
      "metadata": {
        "id": "YkcdR-WTFuR0"
      },
      "execution_count": 3,
      "outputs": []
    },
    {
      "cell_type": "code",
      "source": [
        "sapa_duniailkom()\n",
        "sapa_duniailkom()\n",
        "sapa_duniailkom()"
      ],
      "metadata": {
        "colab": {
          "base_uri": "https://localhost:8080/"
        },
        "id": "WyrSzp8wF2Ge",
        "outputId": "c6347114-dc71-492c-a198-22dd5b31a365"
      },
      "execution_count": 4,
      "outputs": [
        {
          "output_type": "stream",
          "name": "stdout",
          "text": [
            "Halo Duniailkom\n",
            "Halo Duniailkom\n",
            "Halo Duniailkom\n"
          ]
        }
      ]
    },
    {
      "cell_type": "code",
      "source": [
        "def sapa_lisa():\n",
        "  print(\"Hai Lisa\");\n",
        "\n",
        "def sapa_sari():\n",
        "  print(\"Morning, Sari\");\n",
        "\n",
        "def sapa_rudi():\n",
        "  print(\"Halo bro,..\");"
      ],
      "metadata": {
        "id": "nN_mXD7cF4iJ"
      },
      "execution_count": 5,
      "outputs": []
    },
    {
      "cell_type": "code",
      "source": [
        "sapa_lisa()\n",
        "sapa_sari()\n",
        "sapa_rudi()"
      ],
      "metadata": {
        "colab": {
          "base_uri": "https://localhost:8080/"
        },
        "id": "47KQVpOsF8yT",
        "outputId": "3d943d78-76d7-43dd-8ff9-eb2c6fa60f45"
      },
      "execution_count": 6,
      "outputs": [
        {
          "output_type": "stream",
          "name": "stdout",
          "text": [
            "Hai Lisa\n",
            "Morning, Sari\n",
            "Halo bro,..\n"
          ]
        }
      ]
    },
    {
      "cell_type": "code",
      "source": [
        "def hitung_luas_segitiga():\n",
        "  alas = 5\n",
        "  tinggi = 7\n",
        "  luas = (alas * tinggi) / 2\n",
        "  print(\"Luas segitiga adalah: \",luas)"
      ],
      "metadata": {
        "id": "Dosn6DyKGBzA"
      },
      "execution_count": 7,
      "outputs": []
    },
    {
      "cell_type": "code",
      "source": [
        "hitung_luas_segitiga()"
      ],
      "metadata": {
        "colab": {
          "base_uri": "https://localhost:8080/"
        },
        "id": "bqdcsyNuGC-S",
        "outputId": "96ca9e72-1fca-4606-9511-bd9f152fd820"
      },
      "execution_count": 8,
      "outputs": [
        {
          "output_type": "stream",
          "name": "stdout",
          "text": [
            "Luas segitiga adalah:  17.5\n"
          ]
        }
      ]
    }
  ]
}