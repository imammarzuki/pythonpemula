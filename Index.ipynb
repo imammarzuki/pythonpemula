{
  "nbformat": 4,
  "nbformat_minor": 0,
  "metadata": {
    "colab": {
      "provenance": [],
      "authorship_tag": "ABX9TyP4lRFjsT2sxoNS7F9UA+il",
      "include_colab_link": true
    },
    "kernelspec": {
      "name": "python3",
      "display_name": "Python 3"
    },
    "language_info": {
      "name": "python"
    }
  },
  "cells": [
    {
      "cell_type": "markdown",
      "metadata": {
        "id": "view-in-github",
        "colab_type": "text"
      },
      "source": [
        "<a href=\"https://colab.research.google.com/github/imammarzuki/pythonpemula/blob/main/Index.ipynb\" target=\"_parent\"><img src=\"https://colab.research.google.com/assets/colab-badge.svg\" alt=\"Open In Colab\"/></a>"
      ]
    },
    {
      "cell_type": "markdown",
      "source": [
        "Sumber : [https://www.duniailkom.com/tutorial-belajar-bahasa-pemrograman-python-untuk-pemula/](https://www.duniailkom.com/tutorial-belajar-bahasa-pemrograman-python-untuk-pemula/)"
      ],
      "metadata": {
        "id": "zrijQJj-LOIQ"
      }
    },
    {
      "cell_type": "markdown",
      "source": [
        "# **Tutorial Belajar Bahasa Pemrograman Python Untuk Pemula**"
      ],
      "metadata": {
        "id": "VN2cIFZfGvxJ"
      }
    },
    {
      "cell_type": "markdown",
      "source": [
        "Selain Pascal, C dan C++, Bahasa pemrograman Python saat ini juga sering disarankan sebagai bahasa pemrograman dasar untuk pemula. Alasannya karena perintah bahasa python sederhana, rapi dan singkat."
      ],
      "metadata": {
        "id": "KPCM_UdsIgOU"
      }
    },
    {
      "cell_type": "markdown",
      "source": [
        "Python juga sebuah bahasa yang sangat powerfull dengan banyak penerapan di bidang data sains. Jika anda ingin membuat aplikasi \"kekinian\" seperti big data, data mining, deep learning, data science hingga machine learning, bahasa Python bisa dipakai untuk keperluan tersebut."
      ],
      "metadata": {
        "id": "g4RhYK5AImQ1"
      }
    },
    {
      "cell_type": "markdown",
      "source": [
        "Python juga mendukung multi-paradigma. Yakni bisa ditulis dengan kode program prosedural seperti di Pascal atau C dan juga mendukung pemrograman object (OOP) seperti Java. Singkat kata Python adalah bahasa yang \"komplit\" untuk era modern."
      ],
      "metadata": {
        "id": "Z0N2pGHpI3ZE"
      }
    },
    {
      "cell_type": "markdown",
      "source": [
        "Jika dibandingkan dengan bahasa pemrograman lain, perintah di bahasa Python cenderung mudah dipelajari, mudah di baca, dan memiliki perintah yang lebih singkat. Python juga bisa dipakai pada berbagai sistem operasi seperti Windows, Linux dan Mac OS."
      ],
      "metadata": {
        "id": "rsvpe0twI8F9"
      }
    },
    {
      "cell_type": "markdown",
      "source": [
        "Dukungan library yang sangat banyak menjadi pertimbangan tersendiri untuk belajar Python, terutama untuk pembuatan kode program terkait data sains."
      ],
      "metadata": {
        "id": "tJAyedKMJBbz"
      }
    }
  ]
}