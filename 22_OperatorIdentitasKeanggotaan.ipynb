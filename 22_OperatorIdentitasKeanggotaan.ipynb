{
  "nbformat": 4,
  "nbformat_minor": 0,
  "metadata": {
    "colab": {
      "provenance": [],
      "authorship_tag": "ABX9TyPUZ7qIl/9vHvEB9Zou43Z3",
      "include_colab_link": true
    },
    "kernelspec": {
      "name": "python3",
      "display_name": "Python 3"
    },
    "language_info": {
      "name": "python"
    }
  },
  "cells": [
    {
      "cell_type": "markdown",
      "metadata": {
        "id": "view-in-github",
        "colab_type": "text"
      },
      "source": [
        "<a href=\"https://colab.research.google.com/github/imammarzuki/pythonpemula/blob/main/22_OperatorIdentitasKeanggotaan.ipynb\" target=\"_parent\"><img src=\"https://colab.research.google.com/assets/colab-badge.svg\" alt=\"Open In Colab\"/></a>"
      ]
    },
    {
      "cell_type": "code",
      "execution_count": 1,
      "metadata": {
        "id": "emYKFBbLAUcg"
      },
      "outputs": [],
      "source": [
        "# Tutorial Belajar Python Part 22: Jenis-jenis Operator Identitas dan Keanggotaan Python"
      ]
    },
    {
      "cell_type": "code",
      "source": [
        "a = 5\n",
        "b = 5\n",
        "c = 6\n",
        "print('a is b :', a is b)\n",
        "print('a is c :', a is c)\n",
        "print('a is not c :', a is not c)\n",
        "print('\\n')\n",
        "\n",
        "i = 'Duniailkom'\n",
        "j = 'Duniailkom'\n",
        "print('i is j :', i is j)\n",
        "print('i is not j :', i is not j)\n",
        "print('\\n');\n",
        "\n",
        "x = ['a','b','c']\n",
        "y = ['a','b','c']\n",
        "print('x is y :', x is y)\n",
        "print('x is not y :', x is not y)"
      ],
      "metadata": {
        "colab": {
          "base_uri": "https://localhost:8080/"
        },
        "id": "NnaUrLdHAo6G",
        "outputId": "7bb3b136-dba0-4baf-a599-fb78c2e620ab"
      },
      "execution_count": 2,
      "outputs": [
        {
          "output_type": "stream",
          "name": "stdout",
          "text": [
            "a is b : True\n",
            "a is c : False\n",
            "a is not c : True\n",
            "\n",
            "\n",
            "i is j : True\n",
            "i is not j : False\n",
            "\n",
            "\n",
            "x is y : False\n",
            "x is not y : True\n"
          ]
        }
      ]
    },
    {
      "cell_type": "code",
      "source": [
        "foo = 'Duniailkom'\n",
        "print('foo :',foo)\n",
        "print('\\'i\\' in foo     :', 'i' in foo)\n",
        "print('\\'k\\' not in foo :', 'k' not in foo)\n",
        "print('\\'d\\' not in foo :', 'd' not in foo)\n",
        "print('\\n')\n",
        "\n",
        "\n",
        "bar = ['a','b','c']\n",
        "print('bar :',bar)\n",
        "print('\\'a\\' in bar     :', 'a' in bar)\n",
        "print('\\'a\\' not in bar :', 'a' not in bar)\n",
        "print('\\'d\\' not in bar :', 'd' not in bar)\n",
        "print('\\n')\n",
        "\n",
        "baz = (12,43,102,55)\n",
        "print('baz :',baz)\n",
        "print('102 in baz     :', 102 in baz)\n",
        "print('102 not in baz :', 102 not in baz)\n",
        "print('35 not in baz  :', 35 in baz)"
      ],
      "metadata": {
        "colab": {
          "base_uri": "https://localhost:8080/"
        },
        "id": "UyiC48_tAune",
        "outputId": "f3fbd52c-857c-491c-9110-70416a148cb0"
      },
      "execution_count": 3,
      "outputs": [
        {
          "output_type": "stream",
          "name": "stdout",
          "text": [
            "foo : Duniailkom\n",
            "'i' in foo     : True\n",
            "'k' not in foo : False\n",
            "'d' not in foo : True\n",
            "\n",
            "\n",
            "bar : ['a', 'b', 'c']\n",
            "'a' in bar     : True\n",
            "'a' not in bar : False\n",
            "'d' not in bar : True\n",
            "\n",
            "\n",
            "baz : (12, 43, 102, 55)\n",
            "102 in baz     : True\n",
            "102 not in baz : False\n",
            "35 not in baz  : False\n"
          ]
        }
      ]
    }
  ]
}