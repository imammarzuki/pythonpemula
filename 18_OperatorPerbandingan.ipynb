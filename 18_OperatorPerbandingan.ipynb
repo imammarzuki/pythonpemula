{
  "nbformat": 4,
  "nbformat_minor": 0,
  "metadata": {
    "colab": {
      "provenance": [],
      "authorship_tag": "ABX9TyMfRS6i48pA65rXNQl1l1ah",
      "include_colab_link": true
    },
    "kernelspec": {
      "name": "python3",
      "display_name": "Python 3"
    },
    "language_info": {
      "name": "python"
    }
  },
  "cells": [
    {
      "cell_type": "markdown",
      "metadata": {
        "id": "view-in-github",
        "colab_type": "text"
      },
      "source": [
        "<a href=\"https://colab.research.google.com/github/imammarzuki/pythonpemula/blob/main/18_OperatorPerbandingan.ipynb\" target=\"_parent\"><img src=\"https://colab.research.google.com/assets/colab-badge.svg\" alt=\"Open In Colab\"/></a>"
      ]
    },
    {
      "cell_type": "code",
      "execution_count": 1,
      "metadata": {
        "id": "mGTeo-CO8drc"
      },
      "outputs": [],
      "source": [
        "# Tutorial Belajar Python Part 18: Jenis-jenis Operator Perbandingan / Relasional Python"
      ]
    },
    {
      "cell_type": "code",
      "source": [
        "x = 7\n",
        "y = 10\n",
        "\n",
        "print('x =',x)\n",
        "print('y =',y)\n",
        "print('\\n')\n",
        "\n",
        "print('x == y hasilnya',x==y)\n",
        "print('x != y hasilnya',x!=y)\n",
        "print('x > y  hasilnya',x>y)\n",
        "print('x < y  hasilnya',x<y)\n",
        "print('x >= y hasilnya',x>=y)\n",
        "print('x <= y hasilnya',x<=y)"
      ],
      "metadata": {
        "colab": {
          "base_uri": "https://localhost:8080/"
        },
        "id": "b57eaeht8oxQ",
        "outputId": "9780ab5b-acc4-4d8e-b3e8-d4910ab05e8c"
      },
      "execution_count": 2,
      "outputs": [
        {
          "output_type": "stream",
          "name": "stdout",
          "text": [
            "x = 7\n",
            "y = 10\n",
            "\n",
            "\n",
            "x == y hasilnya False\n",
            "x != y hasilnya True\n",
            "x > y  hasilnya False\n",
            "x < y  hasilnya True\n",
            "x >= y hasilnya False\n",
            "x <= y hasilnya True\n"
          ]
        }
      ]
    },
    {
      "cell_type": "code",
      "source": [
        "print('Duniailkom' == 'Duniailkom')\n",
        "print('Duniailkom' == 'duniailkom')\n",
        "print('1234' == 1234)\n",
        "print('1234' != 1234)"
      ],
      "metadata": {
        "colab": {
          "base_uri": "https://localhost:8080/"
        },
        "id": "JSqUrj6g8udI",
        "outputId": "e3f10198-4cf7-4965-f598-bd4a985c910f"
      },
      "execution_count": 3,
      "outputs": [
        {
          "output_type": "stream",
          "name": "stdout",
          "text": [
            "True\n",
            "False\n",
            "False\n",
            "True\n"
          ]
        }
      ]
    },
    {
      "cell_type": "code",
      "source": [
        "a = 8\n",
        "if (a % 2)==0:\n",
        "  print('Variabel a berisi angka genap')\n",
        "else:\n",
        "  print('Variabel a berisi angka ganjil')"
      ],
      "metadata": {
        "colab": {
          "base_uri": "https://localhost:8080/"
        },
        "id": "6DwxWdY083Xy",
        "outputId": "ca340713-a728-490a-d752-9e5e774d3e71"
      },
      "execution_count": 4,
      "outputs": [
        {
          "output_type": "stream",
          "name": "stdout",
          "text": [
            "Variabel a berisi angka genap\n"
          ]
        }
      ]
    }
  ]
}