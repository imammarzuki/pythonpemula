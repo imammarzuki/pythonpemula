{
  "nbformat": 4,
  "nbformat_minor": 0,
  "metadata": {
    "colab": {
      "provenance": [],
      "authorship_tag": "ABX9TyPfqwE1AT4YNkcNuEgVBW6S",
      "include_colab_link": true
    },
    "kernelspec": {
      "name": "python3",
      "display_name": "Python 3"
    },
    "language_info": {
      "name": "python"
    }
  },
  "cells": [
    {
      "cell_type": "markdown",
      "metadata": {
        "id": "view-in-github",
        "colab_type": "text"
      },
      "source": [
        "<a href=\"https://colab.research.google.com/github/imammarzuki/pythonpemula/blob/main/21_OperatorAssignment.ipynb\" target=\"_parent\"><img src=\"https://colab.research.google.com/assets/colab-badge.svg\" alt=\"Open In Colab\"/></a>"
      ]
    },
    {
      "cell_type": "code",
      "execution_count": 1,
      "metadata": {
        "id": "C3q6pGn3-7aU"
      },
      "outputs": [],
      "source": [
        "# Tutorial Belajar Python Part 21: Jenis-jenis Operator Assignment Python"
      ]
    },
    {
      "cell_type": "code",
      "source": [
        "a = 5\n",
        "b = 3\n",
        "b = b + 1\n",
        "c = a + b\n",
        "d = c + c + a\n",
        "e = (c + d)* a\n",
        "\n",
        "print('Isi variabel a:',a)\n",
        "print('Isi variabel b:',b)\n",
        "print('Isi variabel c:',c)\n",
        "print('Isi variabel d:',d)\n",
        "print('Isi variabel e:',e)"
      ],
      "metadata": {
        "colab": {
          "base_uri": "https://localhost:8080/"
        },
        "id": "9rcWE2Zr_J7l",
        "outputId": "9285d2a3-6ed8-400c-80bc-bb39bf59c415"
      },
      "execution_count": 2,
      "outputs": [
        {
          "output_type": "stream",
          "name": "stdout",
          "text": [
            "Isi variabel a: 5\n",
            "Isi variabel b: 4\n",
            "Isi variabel c: 9\n",
            "Isi variabel d: 23\n",
            "Isi variabel e: 160\n"
          ]
        }
      ]
    },
    {
      "cell_type": "code",
      "source": [
        "x = 10\n",
        "x += 5\n",
        "print('x += 5  :',x)\n",
        "\n",
        "x = 10\n",
        "x /= 5\n",
        "print('x /= 5  :',x)\n",
        "\n",
        "x = 10\n",
        "x **= 5\n",
        "print('x **= 5 :',x)\n",
        "\n",
        "x = 10\n",
        "x <<= 2\n",
        "print('x <<= 2 :',x)"
      ],
      "metadata": {
        "colab": {
          "base_uri": "https://localhost:8080/"
        },
        "id": "4xhcE7b6_Tr4",
        "outputId": "e305f430-fd10-48c4-9114-7cea2c2964d4"
      },
      "execution_count": 3,
      "outputs": [
        {
          "output_type": "stream",
          "name": "stdout",
          "text": [
            "x += 5  : 15\n",
            "x /= 5  : 2.0\n",
            "x **= 5 : 100000\n",
            "x <<= 2 : 40\n"
          ]
        }
      ]
    }
  ]
}