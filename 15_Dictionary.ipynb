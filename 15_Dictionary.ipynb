{
  "nbformat": 4,
  "nbformat_minor": 0,
  "metadata": {
    "colab": {
      "provenance": [],
      "authorship_tag": "ABX9TyNR5uULdRiRDtIRbABfcnXx",
      "include_colab_link": true
    },
    "kernelspec": {
      "name": "python3",
      "display_name": "Python 3"
    },
    "language_info": {
      "name": "python"
    }
  },
  "cells": [
    {
      "cell_type": "markdown",
      "metadata": {
        "id": "view-in-github",
        "colab_type": "text"
      },
      "source": [
        "<a href=\"https://colab.research.google.com/github/imammarzuki/pythonpemula/blob/main/15_Dictionary.ipynb\" target=\"_parent\"><img src=\"https://colab.research.google.com/assets/colab-badge.svg\" alt=\"Open In Colab\"/></a>"
      ]
    },
    {
      "cell_type": "code",
      "execution_count": 1,
      "metadata": {
        "id": "FAQakHdHf5E4"
      },
      "outputs": [],
      "source": [
        "# Tutorial Belajar Python Part 15: Tipe Data Dictionary dalam Bahasa Python"
      ]
    },
    {
      "cell_type": "code",
      "source": [
        "nama_variabel = { \"key1\": \"value1\", \"key2\": \"value2\", \"key3\": \"value3\" }"
      ],
      "metadata": {
        "id": "IijwQPn6gI0n"
      },
      "execution_count": 2,
      "outputs": []
    },
    {
      "cell_type": "code",
      "source": [
        "foo = { 1: \"Belajar\", 2: \"Python\", 3: \"di Duniailkom\" }\n",
        "bar = { \"mengapa\": \"Belajar\", \"apa\": \"Python\", \"dimana\": \"di Duniailkom\" }\n",
        "baz = { 1: \"Belajar\", \"apa\": \"Python\", \"dimana\": \"di Duniailkom\" }\n",
        "\n",
        "print(type(foo))\n",
        "print(type(bar))\n",
        "print(type(baz))\n",
        "\n",
        "print(foo)\n",
        "print(bar)\n",
        "print(baz)"
      ],
      "metadata": {
        "colab": {
          "base_uri": "https://localhost:8080/"
        },
        "id": "cBkEh6RhgNoY",
        "outputId": "9be2d49e-cbfc-450b-b190-46d29138eb16"
      },
      "execution_count": 3,
      "outputs": [
        {
          "output_type": "stream",
          "name": "stdout",
          "text": [
            "<class 'dict'>\n",
            "<class 'dict'>\n",
            "<class 'dict'>\n",
            "{1: 'Belajar', 2: 'Python', 3: 'di Duniailkom'}\n",
            "{'mengapa': 'Belajar', 'apa': 'Python', 'dimana': 'di Duniailkom'}\n",
            "{1: 'Belajar', 'apa': 'Python', 'dimana': 'di Duniailkom'}\n"
          ]
        }
      ]
    },
    {
      "cell_type": "code",
      "source": [
        "foo = { 1: \"Belajar\",\n",
        "        2: [\"Pascal\", \"C\", \"Python\"],\n",
        "        \"website\": \"Duniailkom\",\n",
        "        \"menyerah\" : False,\n",
        "        \"target\": 2020,\n",
        "        \"riwayat_sekolah\": {\n",
        "          \"SD\": \"SDN 3 Hijau Daun\",\n",
        "          \"SMP\": \"SMP 7 Hijau Lumut\",\n",
        "          \"SMA\": \"SMA 8 Hijau Rumput\"}\n",
        "      }\n",
        "\n",
        "print(foo)"
      ],
      "metadata": {
        "colab": {
          "base_uri": "https://localhost:8080/"
        },
        "id": "Kn7QcDrggQ3D",
        "outputId": "5710ff17-dd22-4968-fa05-c718a0d309fb"
      },
      "execution_count": 4,
      "outputs": [
        {
          "output_type": "stream",
          "name": "stdout",
          "text": [
            "{1: 'Belajar', 2: ['Pascal', 'C', 'Python'], 'website': 'Duniailkom', 'menyerah': False, 'target': 2020, 'riwayat_sekolah': {'SD': 'SDN 3 Hijau Daun', 'SMP': 'SMP 7 Hijau Lumut', 'SMA': 'SMA 8 Hijau Rumput'}}\n"
          ]
        }
      ]
    },
    {
      "cell_type": "code",
      "source": [
        "foo = { \"kegiatan\": \"Belajar Python\",\n",
        "        \"website\": \"Duniailkom\",\n",
        "        \"hasil\": \"Yakin bisa!\" }\n",
        "\n",
        "print(foo[\"website\"])"
      ],
      "metadata": {
        "colab": {
          "base_uri": "https://localhost:8080/"
        },
        "id": "7BS01T_NgY-C",
        "outputId": "18cbf307-81b5-4ce5-8d7a-d560d682574a"
      },
      "execution_count": 5,
      "outputs": [
        {
          "output_type": "stream",
          "name": "stdout",
          "text": [
            "Duniailkom\n"
          ]
        }
      ]
    },
    {
      "cell_type": "code",
      "source": [
        "foo = { \"kegiatan\": \"Belajar Python\",\n",
        "        \"website\": \"Duniailkom\",\n",
        "        \"hasil\": \"Yakin bisa!\" }\n",
        "\n",
        "foo[\"kegiatan\"] = \"Belajar Bahasa Pemrograman\"\n",
        "print(foo)"
      ],
      "metadata": {
        "colab": {
          "base_uri": "https://localhost:8080/"
        },
        "id": "ATu9vMbEgbv_",
        "outputId": "897cc206-0e43-49f5-a183-7c9c24307ccf"
      },
      "execution_count": 6,
      "outputs": [
        {
          "output_type": "stream",
          "name": "stdout",
          "text": [
            "{'kegiatan': 'Belajar Bahasa Pemrograman', 'website': 'Duniailkom', 'hasil': 'Yakin bisa!'}\n"
          ]
        }
      ]
    },
    {
      "cell_type": "code",
      "source": [
        "foo = { \"kegiatan\": \"Belajar Python\",\n",
        "        \"website\": \"Duniailkom\",\n",
        "        \"hasil\": \"Yakin bisa!\" }\n",
        "\n",
        "foo[\"target\"] = 2020\n",
        "print(foo)"
      ],
      "metadata": {
        "colab": {
          "base_uri": "https://localhost:8080/"
        },
        "id": "7SXVq1P_ggJQ",
        "outputId": "bf6aa8bc-e841-4f64-d508-2a6d8e363fc6"
      },
      "execution_count": 7,
      "outputs": [
        {
          "output_type": "stream",
          "name": "stdout",
          "text": [
            "{'kegiatan': 'Belajar Python', 'website': 'Duniailkom', 'hasil': 'Yakin bisa!', 'target': 2020}\n"
          ]
        }
      ]
    },
    {
      "cell_type": "code",
      "source": [
        "foo = { \"kegiatan\": \"Belajar Python\",\n",
        "        \"website\": \"Duniailkom\",\n",
        "        \"hasil\": \"Yakin bisa!\" }\n",
        "\n",
        "del foo[\"kegiatan\"]\n",
        "print(foo)"
      ],
      "metadata": {
        "colab": {
          "base_uri": "https://localhost:8080/"
        },
        "id": "8aobCK5TgkQ1",
        "outputId": "0164dc92-1ac4-4e10-c6b0-6c9c8905a8e0"
      },
      "execution_count": 8,
      "outputs": [
        {
          "output_type": "stream",
          "name": "stdout",
          "text": [
            "{'website': 'Duniailkom', 'hasil': 'Yakin bisa!'}\n"
          ]
        }
      ]
    },
    {
      "cell_type": "code",
      "source": [
        "foo = dict ( kegiatan = \"Belajar Python\",\n",
        "             website = \"Duniailkom\",\n",
        "             hasil = \"Yakin bisa!\" )\n",
        "\n",
        "print(foo)"
      ],
      "metadata": {
        "colab": {
          "base_uri": "https://localhost:8080/"
        },
        "id": "sHbsjYi2gn9b",
        "outputId": "8a2c6e08-8f35-4070-ee1a-9ff5c572360a"
      },
      "execution_count": 9,
      "outputs": [
        {
          "output_type": "stream",
          "name": "stdout",
          "text": [
            "{'kegiatan': 'Belajar Python', 'website': 'Duniailkom', 'hasil': 'Yakin bisa!'}\n"
          ]
        }
      ]
    }
  ]
}