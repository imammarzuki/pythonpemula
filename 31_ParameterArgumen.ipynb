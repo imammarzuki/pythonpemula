{
  "nbformat": 4,
  "nbformat_minor": 0,
  "metadata": {
    "colab": {
      "provenance": [],
      "authorship_tag": "ABX9TyNDltuVR+buwc6JXZO+QB9/",
      "include_colab_link": true
    },
    "kernelspec": {
      "name": "python3",
      "display_name": "Python 3"
    },
    "language_info": {
      "name": "python"
    }
  },
  "cells": [
    {
      "cell_type": "markdown",
      "metadata": {
        "id": "view-in-github",
        "colab_type": "text"
      },
      "source": [
        "<a href=\"https://colab.research.google.com/github/imammarzuki/pythonpemula/blob/main/31_ParameterArgumen.ipynb\" target=\"_parent\"><img src=\"https://colab.research.google.com/assets/colab-badge.svg\" alt=\"Open In Colab\"/></a>"
      ]
    },
    {
      "cell_type": "code",
      "execution_count": 1,
      "metadata": {
        "id": "EC0ckuuuImsP"
      },
      "outputs": [],
      "source": [
        "# Tutorial Belajar Python Part 31: Pengertian Parameter dan Argumen Fungsi Python"
      ]
    },
    {
      "cell_type": "code",
      "source": [
        "def sapa_lisa():\n",
        "  print(\"Hai Lisa\");"
      ],
      "metadata": {
        "id": "JnFbxou9IvSM"
      },
      "execution_count": 2,
      "outputs": []
    },
    {
      "cell_type": "code",
      "source": [
        "sapa_lisa()"
      ],
      "metadata": {
        "colab": {
          "base_uri": "https://localhost:8080/"
        },
        "id": "6jZTIjOJI2N3",
        "outputId": "dddfa4a8-521d-4ad4-f2c5-53b49818e413"
      },
      "execution_count": 3,
      "outputs": [
        {
          "output_type": "stream",
          "name": "stdout",
          "text": [
            "Hai Lisa\n"
          ]
        }
      ]
    },
    {
      "cell_type": "code",
      "source": [
        "def sapa_teman(nama):\n",
        "  print(\"Hai\",nama);"
      ],
      "metadata": {
        "id": "ThASKduQI6FR"
      },
      "execution_count": 4,
      "outputs": []
    },
    {
      "cell_type": "code",
      "source": [
        "sapa_teman(\"Lisa\")"
      ],
      "metadata": {
        "colab": {
          "base_uri": "https://localhost:8080/"
        },
        "id": "Ggg_Mv4sI7GQ",
        "outputId": "392cf8c7-6577-40ee-f241-9275d4502c24"
      },
      "execution_count": 5,
      "outputs": [
        {
          "output_type": "stream",
          "name": "stdout",
          "text": [
            "Hai Lisa\n"
          ]
        }
      ]
    },
    {
      "cell_type": "code",
      "source": [
        "def sapa_teman(nama):\n",
        "  print(\"Hai\",nama);"
      ],
      "metadata": {
        "id": "L7QH1D_mI82W"
      },
      "execution_count": 6,
      "outputs": []
    },
    {
      "cell_type": "code",
      "source": [
        "sapa_teman(\"Lisa\")\n",
        "sapa_teman(\"Sari\")\n",
        "sapa_teman(\"Putri\")"
      ],
      "metadata": {
        "colab": {
          "base_uri": "https://localhost:8080/"
        },
        "id": "rCAEr-7RJA-1",
        "outputId": "2c426339-7e90-4ec7-f5e7-9fc699cd5a33"
      },
      "execution_count": 7,
      "outputs": [
        {
          "output_type": "stream",
          "name": "stdout",
          "text": [
            "Hai Lisa\n",
            "Hai Sari\n",
            "Hai Putri\n"
          ]
        }
      ]
    },
    {
      "cell_type": "code",
      "source": [
        "def sapa_teman(nama1, nama2, nama3):\n",
        "  print(\"Hai\", nama1, nama2, nama3);"
      ],
      "metadata": {
        "id": "yhx-3QThJHWA"
      },
      "execution_count": 8,
      "outputs": []
    },
    {
      "cell_type": "code",
      "source": [
        "sapa_teman(\"Lisa\", \"Nova\", \"Putri\")"
      ],
      "metadata": {
        "colab": {
          "base_uri": "https://localhost:8080/"
        },
        "id": "9IhXBW5-JJPZ",
        "outputId": "225845a1-93c1-47b2-e801-900db6e6b723"
      },
      "execution_count": 9,
      "outputs": [
        {
          "output_type": "stream",
          "name": "stdout",
          "text": [
            "Hai Lisa Nova Putri\n"
          ]
        }
      ]
    },
    {
      "cell_type": "code",
      "source": [
        "def hitung_luas_segitiga(alas, tinggi):\n",
        "  luas = (alas * tinggi) / 2\n",
        "  print(\"Luas segitiga adalah: \",luas)"
      ],
      "metadata": {
        "id": "gQXPo3GcJL6u"
      },
      "execution_count": 10,
      "outputs": []
    },
    {
      "cell_type": "code",
      "source": [
        "hitung_luas_segitiga(5, 7)\n",
        "hitung_luas_segitiga(2, 10)\n",
        "hitung_luas_segitiga(191, 357)"
      ],
      "metadata": {
        "id": "z5YBGcPRJON_",
        "outputId": "d94b420e-8d06-4277-d2ef-b8fa22a8b714",
        "colab": {
          "base_uri": "https://localhost:8080/"
        }
      },
      "execution_count": 11,
      "outputs": [
        {
          "output_type": "stream",
          "name": "stdout",
          "text": [
            "Luas segitiga adalah:  17.5\n",
            "Luas segitiga adalah:  10.0\n",
            "Luas segitiga adalah:  34093.5\n"
          ]
        }
      ]
    }
  ]
}