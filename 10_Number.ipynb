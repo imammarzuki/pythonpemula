{
  "nbformat": 4,
  "nbformat_minor": 0,
  "metadata": {
    "colab": {
      "provenance": [],
      "authorship_tag": "ABX9TyNR7wDoXo2STyBWjs7yIisj",
      "include_colab_link": true
    },
    "kernelspec": {
      "name": "python3",
      "display_name": "Python 3"
    },
    "language_info": {
      "name": "python"
    }
  },
  "cells": [
    {
      "cell_type": "markdown",
      "metadata": {
        "id": "view-in-github",
        "colab_type": "text"
      },
      "source": [
        "<a href=\"https://colab.research.google.com/github/imammarzuki/pythonpemula/blob/main/10_Number.ipynb\" target=\"_parent\"><img src=\"https://colab.research.google.com/assets/colab-badge.svg\" alt=\"Open In Colab\"/></a>"
      ]
    },
    {
      "cell_type": "code",
      "execution_count": null,
      "metadata": {
        "id": "3iRC80Kzb1LK"
      },
      "outputs": [],
      "source": [
        "# Tutorial Belajar Python Part 10: Tipe Data Number dalam Bahasa Python"
      ]
    },
    {
      "cell_type": "code",
      "source": [
        "foo = 100\n",
        "bar = 30.23\n",
        "baz = 4j\n",
        "\n",
        "print(foo)\n",
        "print(bar)\n",
        "print(baz)"
      ],
      "metadata": {
        "colab": {
          "base_uri": "https://localhost:8080/"
        },
        "id": "TjRTUA8-cAnJ",
        "outputId": "6901a00f-2af5-4449-c3a9-46b0cae3261b"
      },
      "execution_count": 1,
      "outputs": [
        {
          "output_type": "stream",
          "name": "stdout",
          "text": [
            "100\n",
            "30.23\n",
            "4j\n"
          ]
        }
      ]
    },
    {
      "cell_type": "code",
      "source": [
        "foo = 100\n",
        "bar = 30.23\n",
        "baz = 4j\n",
        "\n",
        "print(type(foo))\n",
        "print(type(bar))\n",
        "print(type(baz))"
      ],
      "metadata": {
        "colab": {
          "base_uri": "https://localhost:8080/"
        },
        "id": "2qo6iDCjcHGC",
        "outputId": "f2b33150-fb08-45a6-e780-38dd01f199d0"
      },
      "execution_count": 2,
      "outputs": [
        {
          "output_type": "stream",
          "name": "stdout",
          "text": [
            "<class 'int'>\n",
            "<class 'float'>\n",
            "<class 'complex'>\n"
          ]
        }
      ]
    },
    {
      "cell_type": "code",
      "source": [
        "foo = 999\n",
        "bar = -99999\n",
        "baz = 99999999999999999999\n",
        "\n",
        "print(foo)\n",
        "print(bar)\n",
        "print(baz)"
      ],
      "metadata": {
        "colab": {
          "base_uri": "https://localhost:8080/"
        },
        "id": "HuRZxH-HcLOh",
        "outputId": "990e754c-9f86-479a-bdcb-1d8724e967ab"
      },
      "execution_count": 3,
      "outputs": [
        {
          "output_type": "stream",
          "name": "stdout",
          "text": [
            "999\n",
            "-99999\n",
            "99999999999999999999\n"
          ]
        }
      ]
    },
    {
      "cell_type": "code",
      "source": [
        "foo = 3e2\n",
        "bar = 3e-2\n",
        "baz = 1.34E5\n",
        "\n",
        "print(foo)\n",
        "print(bar)\n",
        "print(baz)"
      ],
      "metadata": {
        "colab": {
          "base_uri": "https://localhost:8080/"
        },
        "id": "7JZeHtrZcQsk",
        "outputId": "e93983b2-7970-4508-8e9a-cc3f19a6725c"
      },
      "execution_count": 4,
      "outputs": [
        {
          "output_type": "stream",
          "name": "stdout",
          "text": [
            "300.0\n",
            "0.03\n",
            "134000.0\n"
          ]
        }
      ]
    }
  ]
}