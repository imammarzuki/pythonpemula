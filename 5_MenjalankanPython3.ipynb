{
  "nbformat": 4,
  "nbformat_minor": 0,
  "metadata": {
    "colab": {
      "provenance": [],
      "authorship_tag": "ABX9TyMwIBoLmXPs6cnXzs4ZJ+aX",
      "include_colab_link": true
    },
    "kernelspec": {
      "name": "python3",
      "display_name": "Python 3"
    },
    "language_info": {
      "name": "python"
    }
  },
  "cells": [
    {
      "cell_type": "markdown",
      "metadata": {
        "id": "view-in-github",
        "colab_type": "text"
      },
      "source": [
        "<a href=\"https://colab.research.google.com/github/imammarzuki/pythonpemula/blob/main/5_MenjalankanPython3.ipynb\" target=\"_parent\"><img src=\"https://colab.research.google.com/assets/colab-badge.svg\" alt=\"Open In Colab\"/></a>"
      ]
    },
    {
      "cell_type": "code",
      "execution_count": 1,
      "metadata": {
        "id": "0IUw6vFYLHCl"
      },
      "outputs": [],
      "source": [
        "# Tutorial Belajar Python Part 5: Cara Menjalankan Python dari IDLE"
      ]
    },
    {
      "cell_type": "code",
      "source": [
        "print(\"Hello World\")\n",
        "web=\"Duniailkom\"\n",
        "print(\"Sedang belajar bahasa Python di \"+web)\n",
        "print(\"Semangat!!\")"
      ],
      "metadata": {
        "colab": {
          "base_uri": "https://localhost:8080/"
        },
        "id": "asj4YUSYVYpO",
        "outputId": "37ec209a-a92b-4d00-ea1b-104bb660bdfc"
      },
      "execution_count": 3,
      "outputs": [
        {
          "output_type": "stream",
          "name": "stdout",
          "text": [
            "Hello World\n",
            "Sedang belajar bahasa Python di Duniailkom\n",
            "Semangat!!\n"
          ]
        }
      ]
    }
  ]
}