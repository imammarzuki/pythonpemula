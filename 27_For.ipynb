{
  "nbformat": 4,
  "nbformat_minor": 0,
  "metadata": {
    "colab": {
      "provenance": [],
      "authorship_tag": "ABX9TyN4i1WfUyy5YpcdwNFf7qEd",
      "include_colab_link": true
    },
    "kernelspec": {
      "name": "python3",
      "display_name": "Python 3"
    },
    "language_info": {
      "name": "python"
    }
  },
  "cells": [
    {
      "cell_type": "markdown",
      "metadata": {
        "id": "view-in-github",
        "colab_type": "text"
      },
      "source": [
        "<a href=\"https://colab.research.google.com/github/imammarzuki/pythonpemula/blob/main/27_For.ipynb\" target=\"_parent\"><img src=\"https://colab.research.google.com/assets/colab-badge.svg\" alt=\"Open In Colab\"/></a>"
      ]
    },
    {
      "cell_type": "code",
      "execution_count": 1,
      "metadata": {
        "id": "PqCpa4zBCRom"
      },
      "outputs": [],
      "source": [
        "# Tutorial Belajar Python Part 27: Perulangan For Bahasa Python"
      ]
    },
    {
      "cell_type": "code",
      "source": [
        "warna = ['Merah','Biru','Kuning','Biru']\n",
        "for i in warna:\n",
        "  print(i)"
      ],
      "metadata": {
        "colab": {
          "base_uri": "https://localhost:8080/"
        },
        "id": "Mtsj_t4zCo2b",
        "outputId": "ff869bdb-0b4d-475b-a9af-711e7cbeb486"
      },
      "execution_count": 2,
      "outputs": [
        {
          "output_type": "stream",
          "name": "stdout",
          "text": [
            "Merah\n",
            "Biru\n",
            "Kuning\n",
            "Biru\n"
          ]
        }
      ]
    },
    {
      "cell_type": "code",
      "source": [
        "warna = {'Merah','Biru','Kuning','Biru'}\n",
        "for i in warna:\n",
        "  print(i)"
      ],
      "metadata": {
        "colab": {
          "base_uri": "https://localhost:8080/"
        },
        "id": "CLApV4hhCs02",
        "outputId": "34b3b1fc-8a49-4473-a3e5-50ee2e7a37f3"
      },
      "execution_count": 3,
      "outputs": [
        {
          "output_type": "stream",
          "name": "stdout",
          "text": [
            "Merah\n",
            "Kuning\n",
            "Biru\n"
          ]
        }
      ]
    },
    {
      "cell_type": "code",
      "source": [
        "web = 'Duniailkom'\n",
        "for huruf in web:\n",
        "  print(huruf)"
      ],
      "metadata": {
        "colab": {
          "base_uri": "https://localhost:8080/"
        },
        "id": "kQPq3d0ICvmV",
        "outputId": "9cb7d7ac-f945-4af1-e7cb-21d5910f6d53"
      },
      "execution_count": 4,
      "outputs": [
        {
          "output_type": "stream",
          "name": "stdout",
          "text": [
            "D\n",
            "u\n",
            "n\n",
            "i\n",
            "a\n",
            "i\n",
            "l\n",
            "k\n",
            "o\n",
            "m\n"
          ]
        }
      ]
    },
    {
      "cell_type": "code",
      "source": [
        "for i in range(5):\n",
        "  print(i)"
      ],
      "metadata": {
        "colab": {
          "base_uri": "https://localhost:8080/"
        },
        "id": "AOzJFadQC1EO",
        "outputId": "4d028535-32e2-4f3e-c390-3322a709350b"
      },
      "execution_count": 5,
      "outputs": [
        {
          "output_type": "stream",
          "name": "stdout",
          "text": [
            "0\n",
            "1\n",
            "2\n",
            "3\n",
            "4\n"
          ]
        }
      ]
    },
    {
      "cell_type": "code",
      "source": [
        "for i in range(5,10):\n",
        "  print(i)"
      ],
      "metadata": {
        "colab": {
          "base_uri": "https://localhost:8080/"
        },
        "id": "6OWJfAfPC3Rl",
        "outputId": "8a54bb2a-8882-479e-cc4b-1424d6f5c4a2"
      },
      "execution_count": 6,
      "outputs": [
        {
          "output_type": "stream",
          "name": "stdout",
          "text": [
            "5\n",
            "6\n",
            "7\n",
            "8\n",
            "9\n"
          ]
        }
      ]
    },
    {
      "cell_type": "code",
      "source": [
        "for i in range(3,100,3):\n",
        "  print(i)"
      ],
      "metadata": {
        "id": "jh_gnAs8C6Hc",
        "outputId": "c5c605c7-ced7-43ce-b31b-c7d814a8b560",
        "colab": {
          "base_uri": "https://localhost:8080/"
        }
      },
      "execution_count": 7,
      "outputs": [
        {
          "output_type": "stream",
          "name": "stdout",
          "text": [
            "3\n",
            "6\n",
            "9\n",
            "12\n",
            "15\n",
            "18\n",
            "21\n",
            "24\n",
            "27\n",
            "30\n",
            "33\n",
            "36\n",
            "39\n",
            "42\n",
            "45\n",
            "48\n",
            "51\n",
            "54\n",
            "57\n",
            "60\n",
            "63\n",
            "66\n",
            "69\n",
            "72\n",
            "75\n",
            "78\n",
            "81\n",
            "84\n",
            "87\n",
            "90\n",
            "93\n",
            "96\n",
            "99\n"
          ]
        }
      ]
    }
  ]
}