{
  "nbformat": 4,
  "nbformat_minor": 0,
  "metadata": {
    "colab": {
      "provenance": [],
      "authorship_tag": "ABX9TyNxB3w8vPGsJTdwGqtELQ7P",
      "include_colab_link": true
    },
    "kernelspec": {
      "name": "python3",
      "display_name": "Python 3"
    },
    "language_info": {
      "name": "python"
    }
  },
  "cells": [
    {
      "cell_type": "markdown",
      "metadata": {
        "id": "view-in-github",
        "colab_type": "text"
      },
      "source": [
        "<a href=\"https://colab.research.google.com/github/imammarzuki/pythonpemula/blob/main/33_DefaultParameter.ipynb\" target=\"_parent\"><img src=\"https://colab.research.google.com/assets/colab-badge.svg\" alt=\"Open In Colab\"/></a>"
      ]
    },
    {
      "cell_type": "code",
      "execution_count": 1,
      "metadata": {
        "id": "T1CJFMtlKu5t"
      },
      "outputs": [],
      "source": [
        "# Tutorial Belajar Python Part 33: Pengertian Default Parameter pada Function Python"
      ]
    },
    {
      "cell_type": "code",
      "source": [
        "def tambah(var1, var2):\n",
        "  return var1 + var2"
      ],
      "metadata": {
        "id": "6--jrMdKK69P"
      },
      "execution_count": 2,
      "outputs": []
    },
    {
      "cell_type": "code",
      "source": [
        "print(tambah(1,2))\n",
        "print(tambah(5,4))"
      ],
      "metadata": {
        "colab": {
          "base_uri": "https://localhost:8080/"
        },
        "id": "41VX3GztK9ws",
        "outputId": "612cb113-9f44-44bf-f0f7-ac942849c75e"
      },
      "execution_count": 3,
      "outputs": [
        {
          "output_type": "stream",
          "name": "stdout",
          "text": [
            "3\n",
            "9\n"
          ]
        }
      ]
    },
    {
      "cell_type": "code",
      "source": [
        "def tambah(var1 = 5, var2 = 2):\n",
        "  return var1 + var2"
      ],
      "metadata": {
        "id": "23n4nEJULCzF"
      },
      "execution_count": 4,
      "outputs": []
    },
    {
      "cell_type": "code",
      "source": [
        "print( tambah() )\n",
        "print( tambah(1) )\n",
        "print( tambah(1,2) )\n",
        "print( tambah(5,4) )"
      ],
      "metadata": {
        "colab": {
          "base_uri": "https://localhost:8080/"
        },
        "id": "TEQtJUkRLEJ5",
        "outputId": "b891d9e7-91db-4a34-889a-cb5a659de966"
      },
      "execution_count": 5,
      "outputs": [
        {
          "output_type": "stream",
          "name": "stdout",
          "text": [
            "7\n",
            "3\n",
            "3\n",
            "9\n"
          ]
        }
      ]
    },
    {
      "cell_type": "code",
      "source": [
        "def tambah(var1 = 5, var2):\n",
        "  return var1 + var2"
      ],
      "metadata": {
        "colab": {
          "base_uri": "https://localhost:8080/",
          "height": 108
        },
        "id": "WQJcCYYCLJWb",
        "outputId": "4cae73d8-72ae-4fda-b8af-ccd9bda27a58"
      },
      "execution_count": 6,
      "outputs": [
        {
          "output_type": "error",
          "ename": "SyntaxError",
          "evalue": "non-default argument follows default argument (<ipython-input-6-bbc4ff7130f6>, line 1)",
          "traceback": [
            "\u001b[0;36m  File \u001b[0;32m\"<ipython-input-6-bbc4ff7130f6>\"\u001b[0;36m, line \u001b[0;32m1\u001b[0m\n\u001b[0;31m    def tambah(var1 = 5, var2):\u001b[0m\n\u001b[0m                         ^\u001b[0m\n\u001b[0;31mSyntaxError\u001b[0m\u001b[0;31m:\u001b[0m non-default argument follows default argument\n"
          ]
        }
      ]
    },
    {
      "cell_type": "code",
      "source": [
        "def pangkat(angka, pangkat = 2):\n",
        "  hasil = 1\n",
        "  for i in range(0,pangkat):\n",
        "    hasil = hasil * angka\n",
        "  return hasil;"
      ],
      "metadata": {
        "id": "dhLu08TBLPGQ"
      },
      "execution_count": 9,
      "outputs": []
    },
    {
      "cell_type": "code",
      "source": [
        "print( pangkat(3) )      # 9\n",
        "print( pangkat(5) )      # 25\n",
        "print( pangkat(10) )     # 100\n",
        "print( pangkat(3,3) )    # 27\n",
        "print( pangkat(5,4) )    # 625\n",
        "print( pangkat(6,6) )    # 46656"
      ],
      "metadata": {
        "colab": {
          "base_uri": "https://localhost:8080/"
        },
        "id": "ZVpQh5uoLbOQ",
        "outputId": "82adb708-a58b-495c-ad52-cacd0939b9ec"
      },
      "execution_count": 10,
      "outputs": [
        {
          "output_type": "stream",
          "name": "stdout",
          "text": [
            "9\n",
            "25\n",
            "100\n",
            "27\n",
            "625\n",
            "46656\n"
          ]
        }
      ]
    }
  ]
}