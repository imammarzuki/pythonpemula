{
  "nbformat": 4,
  "nbformat_minor": 0,
  "metadata": {
    "colab": {
      "provenance": [],
      "authorship_tag": "ABX9TyPucwDjBElrPr/HAcg+S59N",
      "include_colab_link": true
    },
    "kernelspec": {
      "name": "python3",
      "display_name": "Python 3"
    },
    "language_info": {
      "name": "python"
    }
  },
  "cells": [
    {
      "cell_type": "markdown",
      "metadata": {
        "id": "view-in-github",
        "colab_type": "text"
      },
      "source": [
        "<a href=\"https://colab.research.google.com/github/imammarzuki/pythonpemula/blob/main/9_String.ipynb\" target=\"_parent\"><img src=\"https://colab.research.google.com/assets/colab-badge.svg\" alt=\"Open In Colab\"/></a>"
      ]
    },
    {
      "cell_type": "code",
      "execution_count": 1,
      "metadata": {
        "id": "87dKDkGuZrbo"
      },
      "outputs": [],
      "source": [
        "# Tutorial Belajar Python Part 9: Tipe Data String dalam Bahasa Python"
      ]
    },
    {
      "cell_type": "code",
      "source": [
        "foo = \"Duniailkom\"\n",
        "print(foo)\n",
        "bar = 'Duniailkom'\n",
        "print(bar)"
      ],
      "metadata": {
        "colab": {
          "base_uri": "https://localhost:8080/"
        },
        "id": "ygp5f-VcaJLd",
        "outputId": "a4924064-6087-4fa9-f4f4-8911cf97947c"
      },
      "execution_count": 2,
      "outputs": [
        {
          "output_type": "stream",
          "name": "stdout",
          "text": [
            "Duniailkom\n",
            "Duniailkom\n"
          ]
        }
      ]
    },
    {
      "cell_type": "code",
      "source": [
        "foo = \"Teks ini akan dipecah\\nke dalam 2 baris\"\n",
        "print(foo)\n",
        "foo = 'Teks ini\\nakan dipecah\\nke dalam 3 baris'\n",
        "print(foo)"
      ],
      "metadata": {
        "colab": {
          "base_uri": "https://localhost:8080/"
        },
        "id": "phMxPLxZaRQi",
        "outputId": "324df5f7-db09-4d66-d4a4-6a6635f146cc"
      },
      "execution_count": 3,
      "outputs": [
        {
          "output_type": "stream",
          "name": "stdout",
          "text": [
            "Teks ini akan dipecah\n",
            "ke dalam 2 baris\n",
            "Teks ini\n",
            "akan dipecah\n",
            "ke dalam 3 baris\n"
          ]
        }
      ]
    },
    {
      "cell_type": "code",
      "source": [
        "foo = '''Teks ini\n",
        "akan dipecah\n",
        "ke dalam 3 baris'''\n",
        "print(foo)"
      ],
      "metadata": {
        "colab": {
          "base_uri": "https://localhost:8080/"
        },
        "id": "aDxo7qe7aXvF",
        "outputId": "99af2915-6d0c-4496-a034-fce2bcefd1b1"
      },
      "execution_count": 4,
      "outputs": [
        {
          "output_type": "stream",
          "name": "stdout",
          "text": [
            "Teks ini\n",
            "akan dipecah\n",
            "ke dalam 3 baris\n"
          ]
        }
      ]
    },
    {
      "cell_type": "code",
      "source": [
        "foo = 'Belajar '\n",
        "bar = \"Bahasa Pemrograman Python \"\n",
        "baz = \"di Duniailkom\"\n",
        "hasil = foo + bar + baz\n",
        "print(hasil)"
      ],
      "metadata": {
        "colab": {
          "base_uri": "https://localhost:8080/"
        },
        "id": "NMrpkKaoacJ3",
        "outputId": "b26e03ff-e327-4b8b-c367-50bfad87dcb5"
      },
      "execution_count": 5,
      "outputs": [
        {
          "output_type": "stream",
          "name": "stdout",
          "text": [
            "Belajar Bahasa Pemrograman Python di Duniailkom\n"
          ]
        }
      ]
    },
    {
      "cell_type": "code",
      "source": [
        "foo = 'Duniailkom'\n",
        "print(foo[0])\n",
        "print(foo[4])\n",
        "print(foo[5:10])"
      ],
      "metadata": {
        "colab": {
          "base_uri": "https://localhost:8080/"
        },
        "id": "O19lLvdKaisN",
        "outputId": "cbb1ddf2-2545-47ba-c499-38c5251baf7e"
      },
      "execution_count": 6,
      "outputs": [
        {
          "output_type": "stream",
          "name": "stdout",
          "text": [
            "D\n",
            "a\n",
            "ilkom\n"
          ]
        }
      ]
    }
  ]
}