{
  "nbformat": 4,
  "nbformat_minor": 0,
  "metadata": {
    "colab": {
      "provenance": [],
      "authorship_tag": "ABX9TyPKdHCLLX9YSiAKoGRjL/n2",
      "include_colab_link": true
    },
    "kernelspec": {
      "name": "python3",
      "display_name": "Python 3"
    },
    "language_info": {
      "name": "python"
    }
  },
  "cells": [
    {
      "cell_type": "markdown",
      "metadata": {
        "id": "view-in-github",
        "colab_type": "text"
      },
      "source": [
        "<a href=\"https://colab.research.google.com/github/imammarzuki/pythonpemula/blob/main/16_JenisOperator.ipynb\" target=\"_parent\"><img src=\"https://colab.research.google.com/assets/colab-badge.svg\" alt=\"Open In Colab\"/></a>"
      ]
    },
    {
      "cell_type": "code",
      "execution_count": 1,
      "metadata": {
        "id": "b2CWPRVU3uJ_"
      },
      "outputs": [],
      "source": [
        "# Tutorial Belajar Python Part 16: Jenis-jenis Operator dalam Bahasa Python"
      ]
    },
    {
      "cell_type": "code",
      "source": [
        "# 1. Operator Aritmatika\n",
        "# 2. Operator Perbandingan / Relasional\n",
        "# 3. Operator Bitwise\n",
        "# 4. Operator Assgnment (Penugasan)\n",
        "# 5. Operator Identitas (Identity)\n",
        "# 6. Operator Keanggotaan (Membership)"
      ],
      "metadata": {
        "id": "-jOiG2pW4DV9"
      },
      "execution_count": 5,
      "outputs": []
    }
  ]
}