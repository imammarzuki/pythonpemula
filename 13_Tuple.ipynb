{
  "nbformat": 4,
  "nbformat_minor": 0,
  "metadata": {
    "colab": {
      "provenance": [],
      "authorship_tag": "ABX9TyPvveMJ43oJGCglvSP+Pmzt",
      "include_colab_link": true
    },
    "kernelspec": {
      "name": "python3",
      "display_name": "Python 3"
    },
    "language_info": {
      "name": "python"
    }
  },
  "cells": [
    {
      "cell_type": "markdown",
      "metadata": {
        "id": "view-in-github",
        "colab_type": "text"
      },
      "source": [
        "<a href=\"https://colab.research.google.com/github/imammarzuki/pythonpemula/blob/main/13_Tuple.ipynb\" target=\"_parent\"><img src=\"https://colab.research.google.com/assets/colab-badge.svg\" alt=\"Open In Colab\"/></a>"
      ]
    },
    {
      "cell_type": "code",
      "execution_count": null,
      "metadata": {
        "id": "ux4Vk74qefza"
      },
      "outputs": [],
      "source": [
        "# Tutorial Belajar Python Part 13: Tipe Data Tuple dalam Bahasa Python"
      ]
    },
    {
      "cell_type": "code",
      "source": [
        "foo = (\"Belajar\", \"Python\", \"di\", \"Duniailkom\")\n",
        "bar = (100, 200, 300, 400)\n",
        "baz = (\"Python\", 200, 6.99, True)\n",
        "\n",
        "print(foo)\n",
        "print(bar)\n",
        "print(baz)"
      ],
      "metadata": {
        "colab": {
          "base_uri": "https://localhost:8080/"
        },
        "id": "WYYwh8gxepCM",
        "outputId": "8ff13d68-229c-42bd-986c-46366f75c99a"
      },
      "execution_count": 1,
      "outputs": [
        {
          "output_type": "stream",
          "name": "stdout",
          "text": [
            "('Belajar', 'Python', 'di', 'Duniailkom')\n",
            "(100, 200, 300, 400)\n",
            "('Python', 200, 6.99, True)\n"
          ]
        }
      ]
    },
    {
      "cell_type": "code",
      "source": [
        "foo = [\"Belajar\", \"Python\", \"di\", \"Duniailkom\"]\n",
        "print(type(foo))\n",
        "foo = (\"Belajar\", \"Python\", \"di\", \"Duniailkom\")\n",
        "print(type(foo))"
      ],
      "metadata": {
        "colab": {
          "base_uri": "https://localhost:8080/"
        },
        "id": "VmwtELAzeuRE",
        "outputId": "c5c967c7-f9f0-45d1-f006-a9c224bad64e"
      },
      "execution_count": 2,
      "outputs": [
        {
          "output_type": "stream",
          "name": "stdout",
          "text": [
            "<class 'list'>\n",
            "<class 'tuple'>\n"
          ]
        }
      ]
    },
    {
      "cell_type": "code",
      "source": [
        "foo = (\"Python\", 200, 6.99, True, 'Duniailkom', 99j)\n",
        "\n",
        "print(foo[0])\n",
        "print(foo[1])\n",
        "print(foo[2])\n",
        "print(foo[2:5])\n",
        "print(foo[:3])\n",
        "print(foo[3:])\n",
        "print(foo[:])"
      ],
      "metadata": {
        "colab": {
          "base_uri": "https://localhost:8080/"
        },
        "id": "WUsSBOxGezq1",
        "outputId": "71d5b82e-bc11-4500-e28a-1023de074f23"
      },
      "execution_count": 3,
      "outputs": [
        {
          "output_type": "stream",
          "name": "stdout",
          "text": [
            "Python\n",
            "200\n",
            "6.99\n",
            "(6.99, True, 'Duniailkom')\n",
            "('Python', 200, 6.99)\n",
            "(True, 'Duniailkom', 99j)\n",
            "('Python', 200, 6.99, True, 'Duniailkom', 99j)\n"
          ]
        }
      ]
    },
    {
      "cell_type": "code",
      "source": [
        "foo = (\"Python\", 200, 6.99, True, 'Duniailkom', 99j)\n",
        "foo[0] = 'Belajar'\n",
        "print(foo)"
      ],
      "metadata": {
        "colab": {
          "base_uri": "https://localhost:8080/",
          "height": 180
        },
        "id": "Dnb0DHUEe5wW",
        "outputId": "5e61da7c-9653-43b0-b09d-4b3783c4239b"
      },
      "execution_count": 4,
      "outputs": [
        {
          "output_type": "error",
          "ename": "TypeError",
          "evalue": "'tuple' object does not support item assignment",
          "traceback": [
            "\u001b[0;31m---------------------------------------------------------------------------\u001b[0m",
            "\u001b[0;31mTypeError\u001b[0m                                 Traceback (most recent call last)",
            "\u001b[0;32m<ipython-input-4-08829a50c09a>\u001b[0m in \u001b[0;36m<cell line: 2>\u001b[0;34m()\u001b[0m\n\u001b[1;32m      1\u001b[0m \u001b[0mfoo\u001b[0m \u001b[0;34m=\u001b[0m \u001b[0;34m(\u001b[0m\u001b[0;34m\"Python\"\u001b[0m\u001b[0;34m,\u001b[0m \u001b[0;36m200\u001b[0m\u001b[0;34m,\u001b[0m \u001b[0;36m6.99\u001b[0m\u001b[0;34m,\u001b[0m \u001b[0;32mTrue\u001b[0m\u001b[0;34m,\u001b[0m \u001b[0;34m'Duniailkom'\u001b[0m\u001b[0;34m,\u001b[0m \u001b[0;36m99j\u001b[0m\u001b[0;34m)\u001b[0m\u001b[0;34m\u001b[0m\u001b[0;34m\u001b[0m\u001b[0m\n\u001b[0;32m----> 2\u001b[0;31m \u001b[0mfoo\u001b[0m\u001b[0;34m[\u001b[0m\u001b[0;36m0\u001b[0m\u001b[0;34m]\u001b[0m \u001b[0;34m=\u001b[0m \u001b[0;34m'Belajar'\u001b[0m\u001b[0;34m\u001b[0m\u001b[0;34m\u001b[0m\u001b[0m\n\u001b[0m\u001b[1;32m      3\u001b[0m \u001b[0mprint\u001b[0m\u001b[0;34m(\u001b[0m\u001b[0mfoo\u001b[0m\u001b[0;34m)\u001b[0m\u001b[0;34m\u001b[0m\u001b[0;34m\u001b[0m\u001b[0m\n",
            "\u001b[0;31mTypeError\u001b[0m: 'tuple' object does not support item assignment"
          ]
        }
      ]
    }
  ]
}