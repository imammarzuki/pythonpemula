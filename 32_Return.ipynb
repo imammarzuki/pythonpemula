{
  "nbformat": 4,
  "nbformat_minor": 0,
  "metadata": {
    "colab": {
      "provenance": [],
      "authorship_tag": "ABX9TyN39P1bzvUOfJ4JgC+4w1/3",
      "include_colab_link": true
    },
    "kernelspec": {
      "name": "python3",
      "display_name": "Python 3"
    },
    "language_info": {
      "name": "python"
    }
  },
  "cells": [
    {
      "cell_type": "markdown",
      "metadata": {
        "id": "view-in-github",
        "colab_type": "text"
      },
      "source": [
        "<a href=\"https://colab.research.google.com/github/imammarzuki/pythonpemula/blob/main/32_Return.ipynb\" target=\"_parent\"><img src=\"https://colab.research.google.com/assets/colab-badge.svg\" alt=\"Open In Colab\"/></a>"
      ]
    },
    {
      "cell_type": "code",
      "execution_count": 1,
      "metadata": {
        "id": "tbXu7h9AJbNF"
      },
      "outputs": [],
      "source": [
        "# Tutorial Belajar Python Part 32: Fungsi Perintah Return pada Function Python"
      ]
    },
    {
      "cell_type": "code",
      "source": [
        "def hitung_luas_segitiga(alas, tinggi):\n",
        "  luas = (alas * tinggi) / 2\n",
        "  print(\"Luas segitiga adalah: \",luas)"
      ],
      "metadata": {
        "id": "Xfaou3pnJuib"
      },
      "execution_count": 2,
      "outputs": []
    },
    {
      "cell_type": "code",
      "source": [
        "hitung_luas_segitiga(5, 7)"
      ],
      "metadata": {
        "colab": {
          "base_uri": "https://localhost:8080/"
        },
        "id": "tuXrWHt3JxnM",
        "outputId": "0711e0f8-f55b-4f7d-814f-9d15d82e0b90"
      },
      "execution_count": 3,
      "outputs": [
        {
          "output_type": "stream",
          "name": "stdout",
          "text": [
            "Luas segitiga adalah:  17.5\n"
          ]
        }
      ]
    },
    {
      "cell_type": "code",
      "source": [
        "def hitung_luas_segitiga(alas, tinggi):\n",
        "  luas = (alas * tinggi) / 2\n",
        "  return luas"
      ],
      "metadata": {
        "id": "bS-uFcQSJ1nY"
      },
      "execution_count": 4,
      "outputs": []
    },
    {
      "cell_type": "code",
      "source": [
        "var1 = hitung_luas_segitiga(5, 7)\n",
        "print(\"Luas segitiga adalah:\",var1)"
      ],
      "metadata": {
        "colab": {
          "base_uri": "https://localhost:8080/"
        },
        "id": "Jfh2QRR7J2s3",
        "outputId": "6d60e56f-cfbd-48b2-ad07-3f807915871e"
      },
      "execution_count": 5,
      "outputs": [
        {
          "output_type": "stream",
          "name": "stdout",
          "text": [
            "Luas segitiga adalah: 17.5\n"
          ]
        }
      ]
    },
    {
      "cell_type": "code",
      "source": [
        "def hitung_luas_segitiga(alas, tinggi):\n",
        "  return (alas * tinggi) / 2"
      ],
      "metadata": {
        "id": "XD1unDxjJ7L9"
      },
      "execution_count": 6,
      "outputs": []
    },
    {
      "cell_type": "code",
      "source": [
        "print(\"Luas segitiga adalah:\", hitung_luas_segitiga(5, 7))"
      ],
      "metadata": {
        "colab": {
          "base_uri": "https://localhost:8080/"
        },
        "id": "BnToigpFJ8UG",
        "outputId": "2b81c6d2-6de6-48b7-c023-2701eb6333c5"
      },
      "execution_count": 7,
      "outputs": [
        {
          "output_type": "stream",
          "name": "stdout",
          "text": [
            "Luas segitiga adalah: 17.5\n"
          ]
        }
      ]
    },
    {
      "cell_type": "code",
      "source": [
        "def hitung_luas_segitiga(alas, tinggi):\n",
        "  return (alas * tinggi) / 2\n",
        "  print (\"Belajar Python di Duniailkom\")"
      ],
      "metadata": {
        "id": "Muk9ELfxKBTO"
      },
      "execution_count": 8,
      "outputs": []
    },
    {
      "cell_type": "code",
      "source": [
        "print(\"Luas segitiga adalah:\", hitung_luas_segitiga(5, 7))"
      ],
      "metadata": {
        "colab": {
          "base_uri": "https://localhost:8080/"
        },
        "id": "D1qSeMbQKCcX",
        "outputId": "6d04a0d0-a3c8-4580-f27b-07e572913193"
      },
      "execution_count": 9,
      "outputs": [
        {
          "output_type": "stream",
          "name": "stdout",
          "text": [
            "Luas segitiga adalah: 17.5\n"
          ]
        }
      ]
    },
    {
      "cell_type": "code",
      "source": [
        "def harga_setelah_pajak(harga_dasar):\n",
        "  return harga_dasar + (harga_dasar * 10/100)"
      ],
      "metadata": {
        "id": "Jqld2NjPKG5M"
      },
      "execution_count": 10,
      "outputs": []
    },
    {
      "cell_type": "code",
      "source": [
        "harga_cilok = 5000\n",
        "harga_final_cilok = harga_setelah_pajak(harga_cilok)\n",
        "print(\"Harga cilok 1 porsi Rp.\", harga_final_cilok)"
      ],
      "metadata": {
        "colab": {
          "base_uri": "https://localhost:8080/"
        },
        "id": "_wsnS1m6KJNt",
        "outputId": "b174b4dd-704f-470d-9998-9e81802927e0"
      },
      "execution_count": 11,
      "outputs": [
        {
          "output_type": "stream",
          "name": "stdout",
          "text": [
            "Harga cilok 1 porsi Rp. 5500.0\n"
          ]
        }
      ]
    }
  ]
}