{
  "nbformat": 4,
  "nbformat_minor": 0,
  "metadata": {
    "colab": {
      "provenance": [],
      "authorship_tag": "ABX9TyPSGJ3q98QYzF7/WbYJ+wal",
      "include_colab_link": true
    },
    "kernelspec": {
      "name": "python3",
      "display_name": "Python 3"
    },
    "language_info": {
      "name": "python"
    }
  },
  "cells": [
    {
      "cell_type": "markdown",
      "metadata": {
        "id": "view-in-github",
        "colab_type": "text"
      },
      "source": [
        "<a href=\"https://colab.research.google.com/github/imammarzuki/pythonpemula/blob/main/17_OperatorAritmatika.ipynb\" target=\"_parent\"><img src=\"https://colab.research.google.com/assets/colab-badge.svg\" alt=\"Open In Colab\"/></a>"
      ]
    },
    {
      "cell_type": "code",
      "execution_count": 1,
      "metadata": {
        "id": "fvV08fnI6kCa"
      },
      "outputs": [],
      "source": [
        "# Tutorial Belajar Python Part 17: Jenis-jenis Operator Aritmatika Python"
      ]
    },
    {
      "cell_type": "code",
      "source": [
        "x = 20\n",
        "y = 6\n",
        "\n",
        "print('x + y =',x+y)\n",
        "print('x - y =',x-y)\n",
        "print('x * y =',x*y)\n",
        "print('x / y =',x/y)\n",
        "print('x // y =',x//y)\n",
        "print('x % y =',x%y)\n",
        "print('x ** y =',x**y)"
      ],
      "metadata": {
        "colab": {
          "base_uri": "https://localhost:8080/"
        },
        "id": "EmE4odAb7Bl2",
        "outputId": "dfb2b1bb-b24e-4c9e-c554-12f1291ebc7f"
      },
      "execution_count": 2,
      "outputs": [
        {
          "output_type": "stream",
          "name": "stdout",
          "text": [
            "x + y = 26\n",
            "x - y = 14\n",
            "x * y = 120\n",
            "x / y = 3.3333333333333335\n",
            "x // y = 3\n",
            "x % y = 2\n",
            "x ** y = 64000000\n"
          ]
        }
      ]
    },
    {
      "cell_type": "code",
      "source": [
        "hasil = 12 + 6 * 4 - 8\n",
        "print(hasil)"
      ],
      "metadata": {
        "colab": {
          "base_uri": "https://localhost:8080/"
        },
        "id": "yVvfLJ247Mli",
        "outputId": "3f9119fc-47fd-4b3d-9f9d-815221946d4e"
      },
      "execution_count": 3,
      "outputs": [
        {
          "output_type": "stream",
          "name": "stdout",
          "text": [
            "28\n"
          ]
        }
      ]
    },
    {
      "cell_type": "code",
      "source": [
        "hasil = (12 + 6) * (4 - 8);\n",
        "print(hasil)"
      ],
      "metadata": {
        "colab": {
          "base_uri": "https://localhost:8080/"
        },
        "id": "UFDGXztW7hDr",
        "outputId": "93e8335e-523a-4a0d-cba2-0a3f4511ba49"
      },
      "execution_count": 4,
      "outputs": [
        {
          "output_type": "stream",
          "name": "stdout",
          "text": [
            "-72\n"
          ]
        }
      ]
    }
  ]
}