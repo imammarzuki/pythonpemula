{
  "nbformat": 4,
  "nbformat_minor": 0,
  "metadata": {
    "colab": {
      "provenance": [],
      "authorship_tag": "ABX9TyOHV0+sx6rlP9DgObNoVkij",
      "include_colab_link": true
    },
    "kernelspec": {
      "name": "python3",
      "display_name": "Python 3"
    },
    "language_info": {
      "name": "python"
    }
  },
  "cells": [
    {
      "cell_type": "markdown",
      "metadata": {
        "id": "view-in-github",
        "colab_type": "text"
      },
      "source": [
        "<a href=\"https://colab.research.google.com/github/imammarzuki/pythonpemula/blob/main/34_Named_Parameter.ipynb\" target=\"_parent\"><img src=\"https://colab.research.google.com/assets/colab-badge.svg\" alt=\"Open In Colab\"/></a>"
      ]
    },
    {
      "cell_type": "code",
      "execution_count": 1,
      "metadata": {
        "id": "bY1vILcFMK2D"
      },
      "outputs": [],
      "source": [
        "# Tutorial Belajar Python Part 34: Pengertian Named Parameter / Keyword Arguments"
      ]
    },
    {
      "cell_type": "code",
      "source": [
        "def pangkat(angka, pangkat = 2):\n",
        "  hasil = 1\n",
        "  for i in range(0,pangkat):\n",
        "    hasil = hasil * angka\n",
        "  return hasil;"
      ],
      "metadata": {
        "id": "wwwRyh-VMWHm"
      },
      "execution_count": 2,
      "outputs": []
    },
    {
      "cell_type": "code",
      "source": [
        "print( pangkat(5) )      # 25\n",
        "print( pangkat(5,4) )    # 625\n",
        "print( pangkat(6,6) )    # 46656"
      ],
      "metadata": {
        "colab": {
          "base_uri": "https://localhost:8080/"
        },
        "id": "pQfSO4KMMhPJ",
        "outputId": "48942f28-1a02-4265-e61e-4ce49aafd81a"
      },
      "execution_count": 3,
      "outputs": [
        {
          "output_type": "stream",
          "name": "stdout",
          "text": [
            "25\n",
            "625\n",
            "46656\n"
          ]
        }
      ]
    },
    {
      "cell_type": "code",
      "source": [
        "def pangkat(angka, pangkat = 2):\n",
        "  hasil = 1\n",
        "  for i in range(0,pangkat):\n",
        "    hasil = hasil * angka\n",
        "  return hasil;"
      ],
      "metadata": {
        "id": "kNrpMrmfMm4O"
      },
      "execution_count": 4,
      "outputs": []
    },
    {
      "cell_type": "code",
      "source": [
        "print( pangkat(angka = 4,pangkat = 3) )      # 64\n",
        "print( pangkat(pangkat = 2,angka = 9) )      # 81"
      ],
      "metadata": {
        "colab": {
          "base_uri": "https://localhost:8080/"
        },
        "id": "9e_rGvvPMom_",
        "outputId": "b714517e-8fe2-44c3-b71f-a6847cf3d24d"
      },
      "execution_count": 5,
      "outputs": [
        {
          "output_type": "stream",
          "name": "stdout",
          "text": [
            "64\n",
            "81\n"
          ]
        }
      ]
    },
    {
      "cell_type": "code",
      "source": [
        "def akses_database(address,username,password):\n",
        "  print(\"====Database Connection====\");\n",
        "  print(\"server: \",address);\n",
        "  print(\"username: \",username);\n",
        "  print(\"password: \",password);\n",
        "  print(\".....connection success!\");"
      ],
      "metadata": {
        "id": "9TsNqu0sMtLk"
      },
      "execution_count": 6,
      "outputs": []
    },
    {
      "cell_type": "code",
      "source": [
        "akses_database(\"localhost\",\"root\",\"123456\")"
      ],
      "metadata": {
        "colab": {
          "base_uri": "https://localhost:8080/"
        },
        "id": "4pM_0FXEMuiU",
        "outputId": "edb97a65-d376-4d58-eac1-f1db5c256927"
      },
      "execution_count": 7,
      "outputs": [
        {
          "output_type": "stream",
          "name": "stdout",
          "text": [
            "====Database Connection====\n",
            "server:  localhost\n",
            "username:  root\n",
            "password:  123456\n",
            ".....connection success!\n"
          ]
        }
      ]
    },
    {
      "cell_type": "code",
      "source": [
        "def akses_database(address,username,password):\n",
        "  print(\"====Database Connection====\");\n",
        "  print(\"server: \",address);\n",
        "  print(\"username: \",username);\n",
        "  print(\"password: \",password);\n",
        "  print(\".....connection success!\");"
      ],
      "metadata": {
        "id": "Sx-dAHMuMzJu"
      },
      "execution_count": 8,
      "outputs": []
    },
    {
      "cell_type": "code",
      "source": [
        "akses_database(username=\"admin\",password=\"qwerty\",address=\"192.168.0.4\")"
      ],
      "metadata": {
        "colab": {
          "base_uri": "https://localhost:8080/"
        },
        "id": "HsG53j5xM3Hs",
        "outputId": "2c04195c-06cf-4dff-d9ed-222527661aa8"
      },
      "execution_count": 9,
      "outputs": [
        {
          "output_type": "stream",
          "name": "stdout",
          "text": [
            "====Database Connection====\n",
            "server:  192.168.0.4\n",
            "username:  admin\n",
            "password:  qwerty\n",
            ".....connection success!\n"
          ]
        }
      ]
    }
  ]
}