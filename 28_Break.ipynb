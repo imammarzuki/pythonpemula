{
  "nbformat": 4,
  "nbformat_minor": 0,
  "metadata": {
    "colab": {
      "provenance": [],
      "authorship_tag": "ABX9TyO1hE7x584M18ggIxgzon0/",
      "include_colab_link": true
    },
    "kernelspec": {
      "name": "python3",
      "display_name": "Python 3"
    },
    "language_info": {
      "name": "python"
    }
  },
  "cells": [
    {
      "cell_type": "markdown",
      "metadata": {
        "id": "view-in-github",
        "colab_type": "text"
      },
      "source": [
        "<a href=\"https://colab.research.google.com/github/imammarzuki/pythonpemula/blob/main/28_Break.ipynb\" target=\"_parent\"><img src=\"https://colab.research.google.com/assets/colab-badge.svg\" alt=\"Open In Colab\"/></a>"
      ]
    },
    {
      "cell_type": "code",
      "execution_count": 1,
      "metadata": {
        "id": "9M2LSEPfDTB1"
      },
      "outputs": [],
      "source": [
        "# Tutorial Belajar Python Part 28: Fungsi Perintah Break Bahasa Python"
      ]
    },
    {
      "cell_type": "code",
      "source": [
        "i = 1\n",
        "while i <= 10:\n",
        "  print(i,' x ',i ,' = ',i*i)\n",
        "  i += 1"
      ],
      "metadata": {
        "colab": {
          "base_uri": "https://localhost:8080/"
        },
        "id": "hSJweDIYDhGv",
        "outputId": "e8264f0f-58f6-4a8a-b2c4-422159d7d250"
      },
      "execution_count": 2,
      "outputs": [
        {
          "output_type": "stream",
          "name": "stdout",
          "text": [
            "1  x  1  =  1\n",
            "2  x  2  =  4\n",
            "3  x  3  =  9\n",
            "4  x  4  =  16\n",
            "5  x  5  =  25\n",
            "6  x  6  =  36\n",
            "7  x  7  =  49\n",
            "8  x  8  =  64\n",
            "9  x  9  =  81\n",
            "10  x  10  =  100\n"
          ]
        }
      ]
    },
    {
      "cell_type": "code",
      "source": [
        "i = 1\n",
        "while i <= 10:\n",
        "  print(i,' x ',i ,' = ',i*i)\n",
        "  if i == 5:\n",
        "    break\n",
        "  i += 1"
      ],
      "metadata": {
        "colab": {
          "base_uri": "https://localhost:8080/"
        },
        "id": "AuiYNuB1Dld1",
        "outputId": "b47d4698-e066-462b-8617-7922df9eaf15"
      },
      "execution_count": 3,
      "outputs": [
        {
          "output_type": "stream",
          "name": "stdout",
          "text": [
            "1  x  1  =  1\n",
            "2  x  2  =  4\n",
            "3  x  3  =  9\n",
            "4  x  4  =  16\n",
            "5  x  5  =  25\n"
          ]
        }
      ]
    },
    {
      "cell_type": "code",
      "source": [
        "i = 1\n",
        "while i <= 10:\n",
        "  if i == 5:\n",
        "    break\n",
        "  print(i,' x ',i ,' = ',i*i)\n",
        "  i += 1"
      ],
      "metadata": {
        "colab": {
          "base_uri": "https://localhost:8080/"
        },
        "id": "zflCFEpCDoj3",
        "outputId": "e40b4c30-67ae-4d15-f474-b846c0754477"
      },
      "execution_count": 4,
      "outputs": [
        {
          "output_type": "stream",
          "name": "stdout",
          "text": [
            "1  x  1  =  1\n",
            "2  x  2  =  4\n",
            "3  x  3  =  9\n",
            "4  x  4  =  16\n"
          ]
        }
      ]
    },
    {
      "cell_type": "code",
      "source": [
        "for i in range(1,11):\n",
        "  print(i,' x ',i ,' = ',i*i)\n",
        "  if i == 5:\n",
        "    break"
      ],
      "metadata": {
        "colab": {
          "base_uri": "https://localhost:8080/"
        },
        "id": "5_uX3z3aDtpB",
        "outputId": "6991481c-f93d-40f8-9c87-101b467c9a0c"
      },
      "execution_count": 5,
      "outputs": [
        {
          "output_type": "stream",
          "name": "stdout",
          "text": [
            "1  x  1  =  1\n",
            "2  x  2  =  4\n",
            "3  x  3  =  9\n",
            "4  x  4  =  16\n",
            "5  x  5  =  25\n"
          ]
        }
      ]
    }
  ]
}