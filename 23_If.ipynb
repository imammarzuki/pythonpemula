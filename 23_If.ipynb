{
  "nbformat": 4,
  "nbformat_minor": 0,
  "metadata": {
    "colab": {
      "provenance": [],
      "authorship_tag": "ABX9TyOKQqr3V6Q73Nz44iz6hscc",
      "include_colab_link": true
    },
    "kernelspec": {
      "name": "python3",
      "display_name": "Python 3"
    },
    "language_info": {
      "name": "python"
    }
  },
  "cells": [
    {
      "cell_type": "markdown",
      "metadata": {
        "id": "view-in-github",
        "colab_type": "text"
      },
      "source": [
        "<a href=\"https://colab.research.google.com/github/imammarzuki/pythonpemula/blob/main/23_If.ipynb\" target=\"_parent\"><img src=\"https://colab.research.google.com/assets/colab-badge.svg\" alt=\"Open In Colab\"/></a>"
      ]
    },
    {
      "cell_type": "code",
      "execution_count": 1,
      "metadata": {
        "id": "ysx5VaYNBNNo"
      },
      "outputs": [],
      "source": [
        "# Tutorial Belajar Python Part 23: Percabangan Kondisi If Bahasa Python"
      ]
    },
    {
      "cell_type": "code",
      "source": [
        "a = 12\n",
        "b = 10\n",
        "\n",
        "if a > b:\n",
        "  print('Variabel a lebih besar dari variabel b')"
      ],
      "metadata": {
        "colab": {
          "base_uri": "https://localhost:8080/"
        },
        "id": "qZUX763KCDkz",
        "outputId": "60e28a27-1371-4534-bf7a-031941dd5891"
      },
      "execution_count": 2,
      "outputs": [
        {
          "output_type": "stream",
          "name": "stdout",
          "text": [
            "Variabel a lebih besar dari variabel b\n"
          ]
        }
      ]
    },
    {
      "cell_type": "code",
      "source": [
        "a = 12\n",
        "b = 10\n",
        "\n",
        "if a > b:\n",
        "print('Variabel a lebih besar dari variabel b')  # baris ini akan error"
      ],
      "metadata": {
        "colab": {
          "base_uri": "https://localhost:8080/",
          "height": 108
        },
        "id": "3Oip6kp5CMnM",
        "outputId": "9a9293fe-c219-449d-c07d-82aa64527a00"
      },
      "execution_count": 3,
      "outputs": [
        {
          "output_type": "error",
          "ename": "IndentationError",
          "evalue": "expected an indented block after 'if' statement on line 4 (<ipython-input-3-b1a08b5a0a3e>, line 5)",
          "traceback": [
            "\u001b[0;36m  File \u001b[0;32m\"<ipython-input-3-b1a08b5a0a3e>\"\u001b[0;36m, line \u001b[0;32m5\u001b[0m\n\u001b[0;31m    print('Variabel a lebih besar dari variabel b')  # baris ini akan error\u001b[0m\n\u001b[0m    ^\u001b[0m\n\u001b[0;31mIndentationError\u001b[0m\u001b[0;31m:\u001b[0m expected an indented block after 'if' statement on line 4\n"
          ]
        }
      ]
    },
    {
      "cell_type": "code",
      "source": [
        "a = 12\n",
        "b = 10\n",
        "\n",
        "if a > b:\n",
        "  print('Variabel a lebih besar dari variabel b')\n",
        "  print('Sedang belajar bahasa Python di Duniailkom')"
      ],
      "metadata": {
        "colab": {
          "base_uri": "https://localhost:8080/"
        },
        "id": "wHDJe0XvCSNj",
        "outputId": "e171fe0c-4420-45e4-d077-ea78923486b1"
      },
      "execution_count": 4,
      "outputs": [
        {
          "output_type": "stream",
          "name": "stdout",
          "text": [
            "Variabel a lebih besar dari variabel b\n",
            "Sedang belajar bahasa Python di Duniailkom\n"
          ]
        }
      ]
    },
    {
      "cell_type": "code",
      "source": [
        "a = 8\n",
        "b = 10\n",
        "\n",
        "if a > b:\n",
        "  print('Variabel a lebih besar dari variabel b')\n",
        "  print('Sedang belajar bahasa Python di Duniailkom')"
      ],
      "metadata": {
        "id": "Nby4vbpOCYsZ"
      },
      "execution_count": 5,
      "outputs": []
    },
    {
      "cell_type": "code",
      "source": [
        "a = 8\n",
        "b = 10\n",
        "\n",
        "if a > b:\n",
        "  print('Variabel a lebih besar dari variabel b')\n",
        "print('Sedang belajar bahasa Python di Duniailkom')"
      ],
      "metadata": {
        "colab": {
          "base_uri": "https://localhost:8080/"
        },
        "id": "cPGha8DLCfhX",
        "outputId": "7df5a323-2a9b-4019-db28-55fb297778a3"
      },
      "execution_count": 6,
      "outputs": [
        {
          "output_type": "stream",
          "name": "stdout",
          "text": [
            "Sedang belajar bahasa Python di Duniailkom\n"
          ]
        }
      ]
    },
    {
      "cell_type": "code",
      "source": [
        "a = 12\n",
        "b = 12\n",
        "\n",
        "if a > b:\n",
        "  print('Variabel a lebih besar dari variabel b')\n",
        "if a < b:\n",
        "  print('Variabel a lebih kecil dari variabel b')\n",
        "if a == b:\n",
        "  print('Variabel a sama dengan variabel b')"
      ],
      "metadata": {
        "colab": {
          "base_uri": "https://localhost:8080/"
        },
        "id": "kkigPnmQCiqr",
        "outputId": "ea54cd2e-6230-4b28-801c-77a10110c1b7"
      },
      "execution_count": 7,
      "outputs": [
        {
          "output_type": "stream",
          "name": "stdout",
          "text": [
            "Variabel a sama dengan variabel b\n"
          ]
        }
      ]
    },
    {
      "cell_type": "code",
      "source": [
        "a = 7\n",
        "\n",
        "if (a % 2) == 0:\n",
        "  print('Variabel a berisi angka genap')\n",
        "if (a % 2) != 0:\n",
        "  print('Variabel a berisi angka ganjil')"
      ],
      "metadata": {
        "colab": {
          "base_uri": "https://localhost:8080/"
        },
        "id": "nKG5jMM5CorQ",
        "outputId": "cd733f98-c146-474f-86d1-334460109d32"
      },
      "execution_count": 8,
      "outputs": [
        {
          "output_type": "stream",
          "name": "stdout",
          "text": [
            "Variabel a berisi angka ganjil\n"
          ]
        }
      ]
    }
  ]
}