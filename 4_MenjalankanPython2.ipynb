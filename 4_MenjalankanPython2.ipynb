{
  "nbformat": 4,
  "nbformat_minor": 0,
  "metadata": {
    "colab": {
      "provenance": [],
      "authorship_tag": "ABX9TyMTVjPWjdurLJ0beRGrjj06",
      "include_colab_link": true
    },
    "kernelspec": {
      "name": "python3",
      "display_name": "Python 3"
    },
    "language_info": {
      "name": "python"
    }
  },
  "cells": [
    {
      "cell_type": "markdown",
      "metadata": {
        "id": "view-in-github",
        "colab_type": "text"
      },
      "source": [
        "<a href=\"https://colab.research.google.com/github/imammarzuki/pythonpemula/blob/main/4_MenjalankanPython2.ipynb\" target=\"_parent\"><img src=\"https://colab.research.google.com/assets/colab-badge.svg\" alt=\"Open In Colab\"/></a>"
      ]
    },
    {
      "cell_type": "code",
      "execution_count": null,
      "metadata": {
        "id": "P8pah1iVUfI7"
      },
      "outputs": [],
      "source": [
        "# Tutorial Belajar Python Part 4: Cara Menjalankan File Python dari CMD"
      ]
    },
    {
      "cell_type": "code",
      "source": [
        "print(\"Hello World\")\n",
        "web=\"Duniailkom\"\n",
        "print(\"Sedang belajar bahasa Python di \"+web)\n",
        "print(\"Semangat!!\")"
      ],
      "metadata": {
        "colab": {
          "base_uri": "https://localhost:8080/"
        },
        "id": "EP_PUbjDKeDd",
        "outputId": "60ef77d7-0c47-48a8-8c75-aa1cf2f8da22"
      },
      "execution_count": null,
      "outputs": [
        {
          "output_type": "stream",
          "name": "stdout",
          "text": [
            "Hello World\n",
            "Sedang belajar bahasa Python di Duniailkom\n",
            "Semangat!!\n"
          ]
        }
      ]
    }
  ]
}