{
  "nbformat": 4,
  "nbformat_minor": 0,
  "metadata": {
    "colab": {
      "provenance": [],
      "authorship_tag": "ABX9TyPc/u90eZ52JmWiud6gA4ak",
      "include_colab_link": true
    },
    "kernelspec": {
      "name": "python3",
      "display_name": "Python 3"
    },
    "language_info": {
      "name": "python"
    }
  },
  "cells": [
    {
      "cell_type": "markdown",
      "metadata": {
        "id": "view-in-github",
        "colab_type": "text"
      },
      "source": [
        "<a href=\"https://colab.research.google.com/github/imammarzuki/pythonpemula/blob/main/35_ArbitraryArguments.ipynb\" target=\"_parent\"><img src=\"https://colab.research.google.com/assets/colab-badge.svg\" alt=\"Open In Colab\"/></a>"
      ]
    },
    {
      "cell_type": "code",
      "execution_count": 1,
      "metadata": {
        "id": "P8ieULrJNgPw"
      },
      "outputs": [],
      "source": [
        "# Tutorial Belajar Python Part 35: Pengertian Arbitrary Arguments (*args) Python"
      ]
    },
    {
      "cell_type": "code",
      "source": [
        "def sapa_teman(nama1, nama2, nama3):\n",
        "  print(\"Halo\",nama1)\n",
        "  print(\"Halo\",nama2)\n",
        "  print(\"Halo\",nama3)"
      ],
      "metadata": {
        "id": "up3lGAs5QwwL"
      },
      "execution_count": 2,
      "outputs": []
    },
    {
      "cell_type": "code",
      "source": [
        "sapa_teman(\"Alex\",\"Nisa\",\"Sari\")"
      ],
      "metadata": {
        "colab": {
          "base_uri": "https://localhost:8080/"
        },
        "id": "ZJknLcOfQ1UG",
        "outputId": "6664b8df-a87c-4fe2-ca3d-c0455a7eacfd"
      },
      "execution_count": 3,
      "outputs": [
        {
          "output_type": "stream",
          "name": "stdout",
          "text": [
            "Halo Alex\n",
            "Halo Nisa\n",
            "Halo Sari\n"
          ]
        }
      ]
    },
    {
      "cell_type": "code",
      "source": [
        "def sapa_teman(nama1, nama2, nama3):\n",
        "  print(\"Halo\",nama1)\n",
        "  print(\"Halo\",nama2)\n",
        "  print(\"Halo\",nama3)"
      ],
      "metadata": {
        "id": "tZbLBrnZQ49o"
      },
      "execution_count": 4,
      "outputs": []
    },
    {
      "cell_type": "code",
      "source": [
        "sapa_teman(\"Alex\",\"Nisa\",\"Sari\",\"Risa\")"
      ],
      "metadata": {
        "colab": {
          "base_uri": "https://localhost:8080/",
          "height": 144
        },
        "id": "PLx035glQ7Ku",
        "outputId": "641ba25f-e719-48ba-c016-807a06e1a820"
      },
      "execution_count": 5,
      "outputs": [
        {
          "output_type": "error",
          "ename": "TypeError",
          "evalue": "sapa_teman() takes 3 positional arguments but 4 were given",
          "traceback": [
            "\u001b[0;31m---------------------------------------------------------------------------\u001b[0m",
            "\u001b[0;31mTypeError\u001b[0m                                 Traceback (most recent call last)",
            "\u001b[0;32m<ipython-input-5-cf6dbeb241c7>\u001b[0m in \u001b[0;36m<cell line: 1>\u001b[0;34m()\u001b[0m\n\u001b[0;32m----> 1\u001b[0;31m \u001b[0msapa_teman\u001b[0m\u001b[0;34m(\u001b[0m\u001b[0;34m\"Alex\"\u001b[0m\u001b[0;34m,\u001b[0m\u001b[0;34m\"Nisa\"\u001b[0m\u001b[0;34m,\u001b[0m\u001b[0;34m\"Sari\"\u001b[0m\u001b[0;34m,\u001b[0m\u001b[0;34m\"Risa\"\u001b[0m\u001b[0;34m)\u001b[0m\u001b[0;34m\u001b[0m\u001b[0;34m\u001b[0m\u001b[0m\n\u001b[0m",
            "\u001b[0;31mTypeError\u001b[0m: sapa_teman() takes 3 positional arguments but 4 were given"
          ]
        }
      ]
    },
    {
      "cell_type": "code",
      "source": [
        "def sapa_teman(*args):\n",
        "  print(args)\n",
        "  print(type(args))"
      ],
      "metadata": {
        "id": "xsCtVcp0Q-h8"
      },
      "execution_count": 7,
      "outputs": []
    },
    {
      "cell_type": "code",
      "source": [
        "sapa_teman(\"Alex\",\"Nisa\",\"Sari\",\"Risa\")"
      ],
      "metadata": {
        "colab": {
          "base_uri": "https://localhost:8080/"
        },
        "id": "XuBJVnFRRDv7",
        "outputId": "3fa6b5df-87db-4d62-e09d-90b211869563"
      },
      "execution_count": 8,
      "outputs": [
        {
          "output_type": "stream",
          "name": "stdout",
          "text": [
            "('Alex', 'Nisa', 'Sari', 'Risa')\n",
            "<class 'tuple'>\n"
          ]
        }
      ]
    },
    {
      "cell_type": "code",
      "source": [
        "def sapa_teman(*nama):\n",
        "  for i in nama:\n",
        "    print(\"Halo\",i)"
      ],
      "metadata": {
        "id": "t_zdH8cHRH4M"
      },
      "execution_count": 9,
      "outputs": []
    },
    {
      "cell_type": "code",
      "source": [
        "sapa_teman(\"Alex\",\"Nisa\",\"Sari\",\"Risa\",\"Siska\",\"Rudi\",\"Joko\")"
      ],
      "metadata": {
        "colab": {
          "base_uri": "https://localhost:8080/"
        },
        "id": "ejUPK-3GRKRV",
        "outputId": "071aebd4-0c04-4c57-b950-34c7447b703c"
      },
      "execution_count": 10,
      "outputs": [
        {
          "output_type": "stream",
          "name": "stdout",
          "text": [
            "Halo Alex\n",
            "Halo Nisa\n",
            "Halo Sari\n",
            "Halo Risa\n",
            "Halo Siska\n",
            "Halo Rudi\n",
            "Halo Joko\n"
          ]
        }
      ]
    },
    {
      "cell_type": "code",
      "source": [
        "def jumlah(*args):\n",
        "  hasil = 0\n",
        "  for i in args:\n",
        "    hasil += i\n",
        "  return hasil"
      ],
      "metadata": {
        "id": "iUexJS5CRNnE"
      },
      "execution_count": 11,
      "outputs": []
    },
    {
      "cell_type": "code",
      "source": [
        "print( jumlah(5,7) )\n",
        "print( jumlah(5,7,3,2) )\n",
        "print( jumlah(5,7,3,2,8,2,1,3) )\n",
        "print( jumlah(100, 200, 300, 400, 500) )"
      ],
      "metadata": {
        "colab": {
          "base_uri": "https://localhost:8080/"
        },
        "id": "D9BFdmxiRRzU",
        "outputId": "741d2a91-b30b-4206-8748-ce28e3a22465"
      },
      "execution_count": 12,
      "outputs": [
        {
          "output_type": "stream",
          "name": "stdout",
          "text": [
            "12\n",
            "17\n",
            "31\n",
            "1500\n"
          ]
        }
      ]
    },
    {
      "cell_type": "code",
      "source": [
        "def rata2(*args):\n",
        "  hasil = 0\n",
        "  for i in args:\n",
        "    hasil += i\n",
        "  return hasil / len(args)"
      ],
      "metadata": {
        "id": "BrdNX6jLSfCk"
      },
      "execution_count": 13,
      "outputs": []
    },
    {
      "cell_type": "code",
      "source": [
        "print( rata2(5,7) )\n",
        "print( rata2(5,7,3,2) )\n",
        "print( rata2(5,7,3,2,8,2,1,3) )\n",
        "print( rata2(100,200,300,400,500) )"
      ],
      "metadata": {
        "colab": {
          "base_uri": "https://localhost:8080/"
        },
        "id": "ekPTAKP-Sjc2",
        "outputId": "6a0a645c-1482-446f-be3f-ace71539a5fd"
      },
      "execution_count": 14,
      "outputs": [
        {
          "output_type": "stream",
          "name": "stdout",
          "text": [
            "6.0\n",
            "4.25\n",
            "3.875\n",
            "300.0\n"
          ]
        }
      ]
    }
  ]
}