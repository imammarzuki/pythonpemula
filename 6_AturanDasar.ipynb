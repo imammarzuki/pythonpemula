{
  "nbformat": 4,
  "nbformat_minor": 0,
  "metadata": {
    "colab": {
      "provenance": [],
      "authorship_tag": "ABX9TyPyZ8e/hE2sSj2gc7p/wSCH",
      "include_colab_link": true
    },
    "kernelspec": {
      "name": "python3",
      "display_name": "Python 3"
    },
    "language_info": {
      "name": "python"
    }
  },
  "cells": [
    {
      "cell_type": "markdown",
      "metadata": {
        "id": "view-in-github",
        "colab_type": "text"
      },
      "source": [
        "<a href=\"https://colab.research.google.com/github/imammarzuki/pythonpemula/blob/main/6_AturanDasar.ipynb\" target=\"_parent\"><img src=\"https://colab.research.google.com/assets/colab-badge.svg\" alt=\"Open In Colab\"/></a>"
      ]
    },
    {
      "cell_type": "code",
      "execution_count": 1,
      "metadata": {
        "id": "ZhnoZUGRWZuc"
      },
      "outputs": [],
      "source": [
        "# Tutorial Belajar Python Part 6: Aturan Dasar Penulisan Kode Program Python"
      ]
    },
    {
      "cell_type": "code",
      "source": [
        "print(\"Hello World\")\n",
        "web=\"Duniailkom\"\n",
        "print(\"Sedang belajar bahasa Python di \"+web)\n",
        "print(\"Semangat!!\")"
      ],
      "metadata": {
        "colab": {
          "base_uri": "https://localhost:8080/"
        },
        "id": "jI7fjjuIWmMO",
        "outputId": "bea9dd42-d2ba-4b91-a788-fe4cc6baa499"
      },
      "execution_count": 2,
      "outputs": [
        {
          "output_type": "stream",
          "name": "stdout",
          "text": [
            "Hello World\n",
            "Sedang belajar bahasa Python di Duniailkom\n",
            "Semangat!!\n"
          ]
        }
      ]
    },
    {
      "cell_type": "code",
      "source": [
        "print(\"Hello World\");\n",
        "web=\"Duniailkom\";\n",
        "print(\"Sedang belajar bahasa Python di \"+web);\n",
        "print(\"Semangat!!\");"
      ],
      "metadata": {
        "colab": {
          "base_uri": "https://localhost:8080/"
        },
        "id": "9Egqu6ocWyWl",
        "outputId": "c819f7a0-5880-4f1a-ade7-3323882c98f1"
      },
      "execution_count": 3,
      "outputs": [
        {
          "output_type": "stream",
          "name": "stdout",
          "text": [
            "Hello World\n",
            "Sedang belajar bahasa Python di Duniailkom\n",
            "Semangat!!\n"
          ]
        }
      ]
    },
    {
      "cell_type": "code",
      "source": [
        "print(\"Hello World\"); web=\"Duniailkom\";\n",
        "print(\"Sedang belajar bahasa Python di \"+web); print(\"Semangat!!\");\n",
        "print('5+5');"
      ],
      "metadata": {
        "colab": {
          "base_uri": "https://localhost:8080/"
        },
        "id": "wYxuZvVmW2YQ",
        "outputId": "16ba96ff-fcc2-44dd-b140-9027c297304b"
      },
      "execution_count": 4,
      "outputs": [
        {
          "output_type": "stream",
          "name": "stdout",
          "text": [
            "Hello World\n",
            "Sedang belajar bahasa Python di Duniailkom\n",
            "Semangat!!\n",
            "5+5\n"
          ]
        }
      ]
    },
    {
      "cell_type": "code",
      "source": [
        "for x in range(0, 5):\n",
        "  print (x)\n",
        "  if (x == 2):\n",
        "    print(\"Yay, angka 2\")"
      ],
      "metadata": {
        "colab": {
          "base_uri": "https://localhost:8080/"
        },
        "id": "8nkThPiiW9YD",
        "outputId": "5853ecda-dedc-4430-e7d4-375e1c6c3087"
      },
      "execution_count": 5,
      "outputs": [
        {
          "output_type": "stream",
          "name": "stdout",
          "text": [
            "0\n",
            "1\n",
            "2\n",
            "Yay, angka 2\n",
            "3\n",
            "4\n"
          ]
        }
      ]
    },
    {
      "cell_type": "code",
      "source": [
        "# ini adalah baris komentar\n",
        "# kode program dibawah akan menampilkan angka 0 sampai 4\n",
        "for x in range(0, 5):\n",
        "  print (x)     # komentar juga bisa ditulis disini"
      ],
      "metadata": {
        "colab": {
          "base_uri": "https://localhost:8080/"
        },
        "id": "Xcismv9lXBpz",
        "outputId": "3df1ce01-d90c-4faf-b1bc-eec760cde4c9"
      },
      "execution_count": 6,
      "outputs": [
        {
          "output_type": "stream",
          "name": "stdout",
          "text": [
            "0\n",
            "1\n",
            "2\n",
            "3\n",
            "4\n"
          ]
        }
      ]
    }
  ]
}