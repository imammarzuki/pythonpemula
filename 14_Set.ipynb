{
  "nbformat": 4,
  "nbformat_minor": 0,
  "metadata": {
    "colab": {
      "provenance": [],
      "authorship_tag": "ABX9TyPsdvpQQg0HCwkI0I1wZMH+",
      "include_colab_link": true
    },
    "kernelspec": {
      "name": "python3",
      "display_name": "Python 3"
    },
    "language_info": {
      "name": "python"
    }
  },
  "cells": [
    {
      "cell_type": "markdown",
      "metadata": {
        "id": "view-in-github",
        "colab_type": "text"
      },
      "source": [
        "<a href=\"https://colab.research.google.com/github/imammarzuki/pythonpemula/blob/main/14_Set.ipynb\" target=\"_parent\"><img src=\"https://colab.research.google.com/assets/colab-badge.svg\" alt=\"Open In Colab\"/></a>"
      ]
    },
    {
      "cell_type": "code",
      "execution_count": 1,
      "metadata": {
        "id": "AEkkFiptfKme"
      },
      "outputs": [],
      "source": [
        "# Tutorial Belajar Python Part 14: Tipe Data Set dalam Bahasa Python"
      ]
    },
    {
      "cell_type": "code",
      "source": [
        "foo = {\"Belajar\", \"Python\", \"di\", \"Duniailkom\"}\n",
        "bar = {100, 200, 300, 400}\n",
        "baz = {\"Python\", 200, 6.99, True}\n",
        "\n",
        "print(foo)\n",
        "print(bar)\n",
        "print(baz)"
      ],
      "metadata": {
        "colab": {
          "base_uri": "https://localhost:8080/"
        },
        "id": "5jfCTIEUfWq4",
        "outputId": "3ec961ab-f14f-4138-a41b-0370be70e6f4"
      },
      "execution_count": 2,
      "outputs": [
        {
          "output_type": "stream",
          "name": "stdout",
          "text": [
            "{'Duniailkom', 'Belajar', 'di', 'Python'}\n",
            "{200, 100, 400, 300}\n",
            "{200, True, 6.99, 'Python'}\n"
          ]
        }
      ]
    },
    {
      "cell_type": "code",
      "source": [
        "foo = [\"Belajar\", \"Python\", \"di\", \"Duniailkom\"]\n",
        "print(type(foo))\n",
        "\n",
        "foo = (\"Belajar\", \"Python\", \"di\", \"Duniailkom\")\n",
        "print(type(foo))\n",
        "\n",
        "foo = {\"Belajar\", \"Python\", \"di\", \"Duniailkom\"}\n",
        "print(type(foo))"
      ],
      "metadata": {
        "colab": {
          "base_uri": "https://localhost:8080/"
        },
        "id": "oRfacWKZfbJH",
        "outputId": "62efaf11-89cb-4509-8f66-db0fe62991e6"
      },
      "execution_count": 3,
      "outputs": [
        {
          "output_type": "stream",
          "name": "stdout",
          "text": [
            "<class 'list'>\n",
            "<class 'tuple'>\n",
            "<class 'set'>\n"
          ]
        }
      ]
    },
    {
      "cell_type": "code",
      "source": [
        "foo = {\"Belajar\", \"Python\", \"di\", \"Duniailkom\", \"di\"}\n",
        "bar = {100, 200, 300, 400, 200, 300}\n",
        "\n",
        "print(foo)\n",
        "print(bar)"
      ],
      "metadata": {
        "colab": {
          "base_uri": "https://localhost:8080/"
        },
        "id": "87rMf-gOfhn5",
        "outputId": "003f093a-4218-487c-b443-8e8d61eaee09"
      },
      "execution_count": 4,
      "outputs": [
        {
          "output_type": "stream",
          "name": "stdout",
          "text": [
            "{'Duniailkom', 'Belajar', 'di', 'Python'}\n",
            "{200, 100, 400, 300}\n"
          ]
        }
      ]
    },
    {
      "cell_type": "code",
      "source": [
        "foo = {\"Belajar\", \"Python\", \"di\", \"Duniailkom\", \"di\"}\n",
        "\n",
        "print(foo[1])"
      ],
      "metadata": {
        "colab": {
          "base_uri": "https://localhost:8080/",
          "height": 180
        },
        "id": "WD1kTRRuflL1",
        "outputId": "a69ffa2f-4f41-4a89-ebf0-1a87a23fb621"
      },
      "execution_count": 5,
      "outputs": [
        {
          "output_type": "error",
          "ename": "TypeError",
          "evalue": "'set' object is not subscriptable",
          "traceback": [
            "\u001b[0;31m---------------------------------------------------------------------------\u001b[0m",
            "\u001b[0;31mTypeError\u001b[0m                                 Traceback (most recent call last)",
            "\u001b[0;32m<ipython-input-5-d8c2583d73c7>\u001b[0m in \u001b[0;36m<cell line: 3>\u001b[0;34m()\u001b[0m\n\u001b[1;32m      1\u001b[0m \u001b[0mfoo\u001b[0m \u001b[0;34m=\u001b[0m \u001b[0;34m{\u001b[0m\u001b[0;34m\"Belajar\"\u001b[0m\u001b[0;34m,\u001b[0m \u001b[0;34m\"Python\"\u001b[0m\u001b[0;34m,\u001b[0m \u001b[0;34m\"di\"\u001b[0m\u001b[0;34m,\u001b[0m \u001b[0;34m\"Duniailkom\"\u001b[0m\u001b[0;34m,\u001b[0m \u001b[0;34m\"di\"\u001b[0m\u001b[0;34m}\u001b[0m\u001b[0;34m\u001b[0m\u001b[0;34m\u001b[0m\u001b[0m\n\u001b[1;32m      2\u001b[0m \u001b[0;34m\u001b[0m\u001b[0m\n\u001b[0;32m----> 3\u001b[0;31m \u001b[0mprint\u001b[0m\u001b[0;34m(\u001b[0m\u001b[0mfoo\u001b[0m\u001b[0;34m[\u001b[0m\u001b[0;36m1\u001b[0m\u001b[0;34m]\u001b[0m\u001b[0;34m)\u001b[0m\u001b[0;34m\u001b[0m\u001b[0;34m\u001b[0m\u001b[0m\n\u001b[0m",
            "\u001b[0;31mTypeError\u001b[0m: 'set' object is not subscriptable"
          ]
        }
      ]
    },
    {
      "cell_type": "code",
      "source": [
        "foo = {1, 2, 3, 4, 5}\n",
        "bar = {3, 4, 5, 6, 7}\n",
        "\n",
        "print (foo | bar) # union\n",
        "print (foo & bar) # intersection"
      ],
      "metadata": {
        "colab": {
          "base_uri": "https://localhost:8080/"
        },
        "id": "A9HhzK4ZfmTm",
        "outputId": "6bfa0ed3-2b38-47c2-a987-93e3583646c1"
      },
      "execution_count": 6,
      "outputs": [
        {
          "output_type": "stream",
          "name": "stdout",
          "text": [
            "{1, 2, 3, 4, 5, 6, 7}\n",
            "{3, 4, 5}\n"
          ]
        }
      ]
    }
  ]
}