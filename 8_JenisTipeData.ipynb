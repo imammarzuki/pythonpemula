{
  "nbformat": 4,
  "nbformat_minor": 0,
  "metadata": {
    "colab": {
      "provenance": [],
      "authorship_tag": "ABX9TyNnDiB3BRo9M9HiC7K6bH8S",
      "include_colab_link": true
    },
    "kernelspec": {
      "name": "python3",
      "display_name": "Python 3"
    },
    "language_info": {
      "name": "python"
    }
  },
  "cells": [
    {
      "cell_type": "markdown",
      "metadata": {
        "id": "view-in-github",
        "colab_type": "text"
      },
      "source": [
        "<a href=\"https://colab.research.google.com/github/imammarzuki/pythonpemula/blob/main/8_JenisTipeData.ipynb\" target=\"_parent\"><img src=\"https://colab.research.google.com/assets/colab-badge.svg\" alt=\"Open In Colab\"/></a>"
      ]
    },
    {
      "cell_type": "code",
      "execution_count": 1,
      "metadata": {
        "id": "RvWjgg5GZBn0"
      },
      "outputs": [],
      "source": [
        "# Tutorial Belajar Python Part 8: Jenis-jenis Tipe Data dalam Bahasa Python"
      ]
    },
    {
      "cell_type": "code",
      "source": [
        "#Tipe Data String\n",
        "foo = \"Belajar Python di Duniailkom\"\n",
        "print(foo)\n",
        "\n",
        "#Tipe Data Integer\n",
        "foo = 1500\n",
        "print(foo)\n",
        "\n",
        "#Tipe Data Float\n",
        "foo = 99.123\n",
        "print(foo)\n",
        "\n",
        "#Tipe Data Complex Number\n",
        "foo = 4j\n",
        "print(foo)\n",
        "\n",
        "#Tipe Data Boolean\n",
        "foo = True\n",
        "print(foo)\n",
        "\n",
        "#Tipe Data List\n",
        "foo = [\"satu\",\"dua\",\"tiga\",\"satu\"]\n",
        "print(foo)\n",
        "\n",
        "#Tipe Data Tuple\n",
        "foo = (\"satu\",\"dua\",\"tiga\",\"satu\")\n",
        "print(foo)\n",
        "\n",
        "#Tipe Data Set\n",
        "foo = {\"satu\",\"dua\",\"tiga\",\"empat\"}\n",
        "print(foo)\n",
        "\n",
        "#Tipe Data Dictionary\n",
        "foo = {\"satu\":1, \"dua\":2.13, \"tiga\":\"a\", \"empat\": True}\n",
        "print(foo)"
      ],
      "metadata": {
        "colab": {
          "base_uri": "https://localhost:8080/"
        },
        "id": "byDQ44xcZOsZ",
        "outputId": "c175e93c-297c-490b-d2af-73bd8fca4208"
      },
      "execution_count": 2,
      "outputs": [
        {
          "output_type": "stream",
          "name": "stdout",
          "text": [
            "Belajar Python di Duniailkom\n",
            "1500\n",
            "99.123\n",
            "4j\n",
            "True\n",
            "['satu', 'dua', 'tiga', 'satu']\n",
            "('satu', 'dua', 'tiga', 'satu')\n",
            "{'satu', 'empat', 'tiga', 'dua'}\n",
            "{'satu': 1, 'dua': 2.13, 'tiga': 'a', 'empat': True}\n"
          ]
        }
      ]
    }
  ]
}