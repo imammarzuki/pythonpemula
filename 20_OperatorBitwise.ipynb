{
  "nbformat": 4,
  "nbformat_minor": 0,
  "metadata": {
    "colab": {
      "provenance": [],
      "authorship_tag": "ABX9TyNqGd25V475hWwfa+oJDv5e",
      "include_colab_link": true
    },
    "kernelspec": {
      "name": "python3",
      "display_name": "Python 3"
    },
    "language_info": {
      "name": "python"
    }
  },
  "cells": [
    {
      "cell_type": "markdown",
      "metadata": {
        "id": "view-in-github",
        "colab_type": "text"
      },
      "source": [
        "<a href=\"https://colab.research.google.com/github/imammarzuki/pythonpemula/blob/main/20_OperatorBitwise.ipynb\" target=\"_parent\"><img src=\"https://colab.research.google.com/assets/colab-badge.svg\" alt=\"Open In Colab\"/></a>"
      ]
    },
    {
      "cell_type": "code",
      "execution_count": 1,
      "metadata": {
        "id": "OihEWZM6-Cpw"
      },
      "outputs": [],
      "source": [
        "# Tutorial Belajar Python Part 20: Jenis-jenis Operator Bitwise Python"
      ]
    },
    {
      "cell_type": "code",
      "source": [
        "x = 10\n",
        "y = 12\n",
        "\n",
        "print('x berisi angka',x ,'desimal atau',bin(x),'biner')\n",
        "print('y berisi angka',y ,'desimal atau',bin(y),'biner')\n",
        "\n",
        "print('\\n')\n",
        "\n",
        "print('x & y  :',x & y)\n",
        "print('x | y  :',x | y)\n",
        "print('x ^ y  :',x ^ y)\n",
        "print('~x     :',~x)\n",
        "print('x << 1 :',x << 1)\n",
        "print('x >> 1 :',x >> 1)"
      ],
      "metadata": {
        "colab": {
          "base_uri": "https://localhost:8080/"
        },
        "id": "ZDArIqfp-U8o",
        "outputId": "28acd026-25f3-43b2-d5cd-96e60aed8c95"
      },
      "execution_count": 2,
      "outputs": [
        {
          "output_type": "stream",
          "name": "stdout",
          "text": [
            "x berisi angka 10 desimal atau 0b1010 biner\n",
            "y berisi angka 12 desimal atau 0b1100 biner\n",
            "\n",
            "\n",
            "x & y  : 8\n",
            "x | y  : 14\n",
            "x ^ y  : 6\n",
            "~x     : -11\n",
            "x << 1 : 20\n",
            "x >> 1 : 5\n"
          ]
        }
      ]
    }
  ]
}